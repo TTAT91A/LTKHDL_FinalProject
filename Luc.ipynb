{
 "cells": [
  {
   "cell_type": "code",
   "execution_count": null,
   "metadata": {},
   "outputs": [],
   "source": []
  },
  {
   "cell_type": "markdown",
   "metadata": {},
   "source": [
    "# B. Khám phá dữ liệu"
   ]
  },
  {
   "cell_type": "markdown",
   "metadata": {},
   "source": [
    "## 1. Đọc dữ liệu và tính số dòng, số cột"
   ]
  },
  {
   "cell_type": "markdown",
   "metadata": {},
   "source": [
    "Import các thư viện cần thiết"
   ]
  },
  {
   "cell_type": "code",
   "execution_count": 158,
   "metadata": {},
   "outputs": [],
   "source": [
    "import numpy as np\n",
    "import pandas as pd\n",
    "import matplotlib.pyplot as plt\n",
    "import seaborn as sns\n",
    "from collections import defaultdict"
   ]
  },
  {
   "cell_type": "markdown",
   "metadata": {},
   "source": [
    "Đọc file `DataScientist.csv` và in ra 5 dòng đầu tiên"
   ]
  },
  {
   "cell_type": "code",
   "execution_count": 159,
   "metadata": {},
   "outputs": [
    {
     "data": {
      "text/html": [
       "<div>\n",
       "<style scoped>\n",
       "    .dataframe tbody tr th:only-of-type {\n",
       "        vertical-align: middle;\n",
       "    }\n",
       "\n",
       "    .dataframe tbody tr th {\n",
       "        vertical-align: top;\n",
       "    }\n",
       "\n",
       "    .dataframe thead th {\n",
       "        text-align: right;\n",
       "    }\n",
       "</style>\n",
       "<table border=\"1\" class=\"dataframe\">\n",
       "  <thead>\n",
       "    <tr style=\"text-align: right;\">\n",
       "      <th></th>\n",
       "      <th>Unnamed: 0</th>\n",
       "      <th>Job Title</th>\n",
       "      <th>Salary Estimate</th>\n",
       "      <th>Job Description</th>\n",
       "      <th>Rating</th>\n",
       "      <th>Company Name</th>\n",
       "      <th>Location</th>\n",
       "      <th>Headquarters</th>\n",
       "      <th>Size</th>\n",
       "      <th>Founded</th>\n",
       "      <th>Type of ownership</th>\n",
       "      <th>Industry</th>\n",
       "      <th>Sector</th>\n",
       "      <th>Revenue</th>\n",
       "      <th>Competitors</th>\n",
       "      <th>Easy Apply</th>\n",
       "    </tr>\n",
       "    <tr>\n",
       "      <th>index</th>\n",
       "      <th></th>\n",
       "      <th></th>\n",
       "      <th></th>\n",
       "      <th></th>\n",
       "      <th></th>\n",
       "      <th></th>\n",
       "      <th></th>\n",
       "      <th></th>\n",
       "      <th></th>\n",
       "      <th></th>\n",
       "      <th></th>\n",
       "      <th></th>\n",
       "      <th></th>\n",
       "      <th></th>\n",
       "      <th></th>\n",
       "      <th></th>\n",
       "    </tr>\n",
       "  </thead>\n",
       "  <tbody>\n",
       "    <tr>\n",
       "      <th>0</th>\n",
       "      <td>0</td>\n",
       "      <td>Senior Data Scientist</td>\n",
       "      <td>$111K-$181K (Glassdoor est.)</td>\n",
       "      <td>ABOUT HOPPER\\r\\n\\r\\nAt Hopper, we’re on a miss...</td>\n",
       "      <td>3.5</td>\n",
       "      <td>Hopper\\r\\n3.5</td>\n",
       "      <td>New York, NY</td>\n",
       "      <td>Montreal, Canada</td>\n",
       "      <td>501 to 1000 employees</td>\n",
       "      <td>2007</td>\n",
       "      <td>Company - Private</td>\n",
       "      <td>Travel Agencies</td>\n",
       "      <td>Travel &amp; Tourism</td>\n",
       "      <td>Unknown / Non-Applicable</td>\n",
       "      <td>-1</td>\n",
       "      <td>-1</td>\n",
       "    </tr>\n",
       "    <tr>\n",
       "      <th>1</th>\n",
       "      <td>1</td>\n",
       "      <td>Data Scientist, Product Analytics</td>\n",
       "      <td>$111K-$181K (Glassdoor est.)</td>\n",
       "      <td>At Noom, we use scientifically proven methods ...</td>\n",
       "      <td>4.5</td>\n",
       "      <td>Noom US\\r\\n4.5</td>\n",
       "      <td>New York, NY</td>\n",
       "      <td>New York, NY</td>\n",
       "      <td>1001 to 5000 employees</td>\n",
       "      <td>2008</td>\n",
       "      <td>Company - Private</td>\n",
       "      <td>Health, Beauty, &amp; Fitness</td>\n",
       "      <td>Consumer Services</td>\n",
       "      <td>Unknown / Non-Applicable</td>\n",
       "      <td>-1</td>\n",
       "      <td>-1</td>\n",
       "    </tr>\n",
       "    <tr>\n",
       "      <th>2</th>\n",
       "      <td>2</td>\n",
       "      <td>Data Science Manager</td>\n",
       "      <td>$111K-$181K (Glassdoor est.)</td>\n",
       "      <td>Decode_M\\r\\n\\r\\nhttps://www.decode-m.com/\\r\\n\\...</td>\n",
       "      <td>-1.0</td>\n",
       "      <td>Decode_M</td>\n",
       "      <td>New York, NY</td>\n",
       "      <td>New York, NY</td>\n",
       "      <td>1 to 50 employees</td>\n",
       "      <td>-1</td>\n",
       "      <td>Unknown</td>\n",
       "      <td>-1</td>\n",
       "      <td>-1</td>\n",
       "      <td>Unknown / Non-Applicable</td>\n",
       "      <td>-1</td>\n",
       "      <td>True</td>\n",
       "    </tr>\n",
       "    <tr>\n",
       "      <th>3</th>\n",
       "      <td>3</td>\n",
       "      <td>Data Analyst</td>\n",
       "      <td>$111K-$181K (Glassdoor est.)</td>\n",
       "      <td>Sapphire Digital seeks a dynamic and driven mi...</td>\n",
       "      <td>3.4</td>\n",
       "      <td>Sapphire Digital\\r\\n3.4</td>\n",
       "      <td>Lyndhurst, NJ</td>\n",
       "      <td>Lyndhurst, NJ</td>\n",
       "      <td>201 to 500 employees</td>\n",
       "      <td>2019</td>\n",
       "      <td>Company - Private</td>\n",
       "      <td>Internet</td>\n",
       "      <td>Information Technology</td>\n",
       "      <td>Unknown / Non-Applicable</td>\n",
       "      <td>Zocdoc, Healthgrades</td>\n",
       "      <td>-1</td>\n",
       "    </tr>\n",
       "    <tr>\n",
       "      <th>4</th>\n",
       "      <td>4</td>\n",
       "      <td>Director, Data Science</td>\n",
       "      <td>$111K-$181K (Glassdoor est.)</td>\n",
       "      <td>Director, Data Science - (200537)\\r\\nDescripti...</td>\n",
       "      <td>3.4</td>\n",
       "      <td>United Entertainment Group\\r\\n3.4</td>\n",
       "      <td>New York, NY</td>\n",
       "      <td>New York, NY</td>\n",
       "      <td>51 to 200 employees</td>\n",
       "      <td>2007</td>\n",
       "      <td>Company - Private</td>\n",
       "      <td>Advertising &amp; Marketing</td>\n",
       "      <td>Business Services</td>\n",
       "      <td>Unknown / Non-Applicable</td>\n",
       "      <td>BBDO, Grey Group, Droga5</td>\n",
       "      <td>-1</td>\n",
       "    </tr>\n",
       "  </tbody>\n",
       "</table>\n",
       "</div>"
      ],
      "text/plain": [
       "       Unnamed: 0                          Job Title  \\\n",
       "index                                                  \n",
       "0               0              Senior Data Scientist   \n",
       "1               1  Data Scientist, Product Analytics   \n",
       "2               2               Data Science Manager   \n",
       "3               3                       Data Analyst   \n",
       "4               4             Director, Data Science   \n",
       "\n",
       "                    Salary Estimate  \\\n",
       "index                                 \n",
       "0      $111K-$181K (Glassdoor est.)   \n",
       "1      $111K-$181K (Glassdoor est.)   \n",
       "2      $111K-$181K (Glassdoor est.)   \n",
       "3      $111K-$181K (Glassdoor est.)   \n",
       "4      $111K-$181K (Glassdoor est.)   \n",
       "\n",
       "                                         Job Description  Rating  \\\n",
       "index                                                              \n",
       "0      ABOUT HOPPER\\r\\n\\r\\nAt Hopper, we’re on a miss...     3.5   \n",
       "1      At Noom, we use scientifically proven methods ...     4.5   \n",
       "2      Decode_M\\r\\n\\r\\nhttps://www.decode-m.com/\\r\\n\\...    -1.0   \n",
       "3      Sapphire Digital seeks a dynamic and driven mi...     3.4   \n",
       "4      Director, Data Science - (200537)\\r\\nDescripti...     3.4   \n",
       "\n",
       "                            Company Name       Location      Headquarters  \\\n",
       "index                                                                       \n",
       "0                          Hopper\\r\\n3.5   New York, NY  Montreal, Canada   \n",
       "1                         Noom US\\r\\n4.5   New York, NY      New York, NY   \n",
       "2                               Decode_M   New York, NY      New York, NY   \n",
       "3                Sapphire Digital\\r\\n3.4  Lyndhurst, NJ     Lyndhurst, NJ   \n",
       "4      United Entertainment Group\\r\\n3.4   New York, NY      New York, NY   \n",
       "\n",
       "                         Size  Founded  Type of ownership  \\\n",
       "index                                                       \n",
       "0       501 to 1000 employees     2007  Company - Private   \n",
       "1      1001 to 5000 employees     2008  Company - Private   \n",
       "2           1 to 50 employees       -1            Unknown   \n",
       "3        201 to 500 employees     2019  Company - Private   \n",
       "4         51 to 200 employees     2007  Company - Private   \n",
       "\n",
       "                        Industry                  Sector  \\\n",
       "index                                                      \n",
       "0                Travel Agencies        Travel & Tourism   \n",
       "1      Health, Beauty, & Fitness       Consumer Services   \n",
       "2                             -1                      -1   \n",
       "3                       Internet  Information Technology   \n",
       "4        Advertising & Marketing       Business Services   \n",
       "\n",
       "                        Revenue               Competitors Easy Apply  \n",
       "index                                                                 \n",
       "0      Unknown / Non-Applicable                        -1         -1  \n",
       "1      Unknown / Non-Applicable                        -1         -1  \n",
       "2      Unknown / Non-Applicable                        -1       True  \n",
       "3      Unknown / Non-Applicable      Zocdoc, Healthgrades         -1  \n",
       "4      Unknown / Non-Applicable  BBDO, Grey Group, Droga5         -1  "
      ]
     },
     "execution_count": 159,
     "metadata": {},
     "output_type": "execute_result"
    }
   ],
   "source": [
    "df = pd.read_csv('archive/DataScientist.csv',index_col='index')\n",
    "df.head()"
   ]
  },
  {
   "cell_type": "markdown",
   "metadata": {},
   "source": [
    "Tính số dòng và số cột và lưu vào 2 biến `num_rows`, `num_cols`"
   ]
  },
  {
   "cell_type": "code",
   "execution_count": 160,
   "metadata": {},
   "outputs": [
    {
     "name": "stdout",
     "output_type": "stream",
     "text": [
      "Number of rows: 3909\n",
      "Number of columns: 16\n"
     ]
    }
   ],
   "source": [
    "num_rows,num_cols = df.shape\n",
    "print(f'Number of rows: {num_rows}\\nNumber of columns: {num_cols}')\n"
   ]
  },
  {
   "cell_type": "markdown",
   "metadata": {},
   "source": [
    "## 2. Mỗi dòng có ý nghĩa gì? Có vấn đề các dòng có ý nghĩa khác nhau không?"
   ]
  },
  {
   "cell_type": "markdown",
   "metadata": {},
   "source": [
    "## 3. Dữ liệu có dòng nào bị lặp không?"
   ]
  },
  {
   "cell_type": "markdown",
   "metadata": {},
   "source": [
    "Ta kiểm tra xem có dòng nào bị lặp không bằng cách sử dụng các phương `duplicated()` và `any()` trên dataframe `df` và lưu kết quả vào biến `have_duplicated_rows`. Biến này sẽ có giá trị True nếu dữ liệu có các dòng bị lặp và có giá trị False nếu không có dòng bị lặp."
   ]
  },
  {
   "cell_type": "code",
   "execution_count": 161,
   "metadata": {},
   "outputs": [
    {
     "data": {
      "text/plain": [
       "False"
      ]
     },
     "execution_count": 161,
     "metadata": {},
     "output_type": "execute_result"
    }
   ],
   "source": [
    "have_duplicate_rows = df.duplicated().any()\n",
    "have_duplicate_rows"
   ]
  },
  {
   "cell_type": "markdown",
   "metadata": {},
   "source": [
    "Như vậy, dữ liệu không có dòng nào bị lặp"
   ]
  },
  {
   "cell_type": "markdown",
   "metadata": {},
   "source": [
    "## 4. Tỉ lệ giá trị thiếu của mỗi cột"
   ]
  },
  {
   "cell_type": "markdown",
   "metadata": {},
   "source": [
    "Ta cần xem xét đến các giá trị thiếu trong dữ liệu. Đầu tiên, ta tính tỉ lệ giá trị thiếu của từng cột bằng cách sử dụng phương thức `isnull()` trên dataframe `df` và tính tổng số giá trị thiếu của từng cột bằng phương thức `sum()`. Cuối cùng ta chia số dòng và lưu kết quả vào `missing_ratio`."
   ]
  },
  {
   "cell_type": "code",
   "execution_count": 162,
   "metadata": {},
   "outputs": [
    {
     "data": {
      "text/plain": [
       "Unnamed: 0           0.0\n",
       "Job Title            0.0\n",
       "Salary Estimate      0.0\n",
       "Job Description      0.0\n",
       "Rating               0.0\n",
       "Company Name         0.0\n",
       "Location             0.0\n",
       "Headquarters         0.0\n",
       "Size                 0.0\n",
       "Founded              0.0\n",
       "Type of ownership    0.0\n",
       "Industry             0.0\n",
       "Sector               0.0\n",
       "Revenue              0.0\n",
       "Competitors          0.0\n",
       "Easy Apply           0.0\n",
       "dtype: float64"
      ]
     },
     "execution_count": 162,
     "metadata": {},
     "output_type": "execute_result"
    }
   ],
   "source": [
    "missing_ratio = df.isnull().sum()\n",
    "missing_ratio = missing_ratio / num_rows\n",
    "missing_ratio"
   ]
  },
  {
   "cell_type": "markdown",
   "metadata": {},
   "source": [
    "Có thể thấy, dữ liệu thiếu ở mỗi cột đều là 0."
   ]
  },
  {
   "cell_type": "markdown",
   "metadata": {},
   "source": [
    "Ta cũng cần tính các giá trị thống kê mô tả của các cột numeric bằng phương thức `describe()` trên dataframe `df`."
   ]
  },
  {
   "cell_type": "code",
   "execution_count": 163,
   "metadata": {},
   "outputs": [
    {
     "data": {
      "text/html": [
       "<div>\n",
       "<style scoped>\n",
       "    .dataframe tbody tr th:only-of-type {\n",
       "        vertical-align: middle;\n",
       "    }\n",
       "\n",
       "    .dataframe tbody tr th {\n",
       "        vertical-align: top;\n",
       "    }\n",
       "\n",
       "    .dataframe thead th {\n",
       "        text-align: right;\n",
       "    }\n",
       "</style>\n",
       "<table border=\"1\" class=\"dataframe\">\n",
       "  <thead>\n",
       "    <tr style=\"text-align: right;\">\n",
       "      <th></th>\n",
       "      <th>Unnamed: 0</th>\n",
       "      <th>Rating</th>\n",
       "      <th>Founded</th>\n",
       "    </tr>\n",
       "  </thead>\n",
       "  <tbody>\n",
       "    <tr>\n",
       "      <th>count</th>\n",
       "      <td>3909.000000</td>\n",
       "      <td>3909.000000</td>\n",
       "      <td>3909.000000</td>\n",
       "    </tr>\n",
       "    <tr>\n",
       "      <th>mean</th>\n",
       "      <td>1954.000000</td>\n",
       "      <td>3.283576</td>\n",
       "      <td>1479.154771</td>\n",
       "    </tr>\n",
       "    <tr>\n",
       "      <th>std</th>\n",
       "      <td>1128.575429</td>\n",
       "      <td>1.575749</td>\n",
       "      <td>855.750138</td>\n",
       "    </tr>\n",
       "    <tr>\n",
       "      <th>min</th>\n",
       "      <td>0.000000</td>\n",
       "      <td>-1.000000</td>\n",
       "      <td>-1.000000</td>\n",
       "    </tr>\n",
       "    <tr>\n",
       "      <th>25%</th>\n",
       "      <td>977.000000</td>\n",
       "      <td>3.200000</td>\n",
       "      <td>1625.000000</td>\n",
       "    </tr>\n",
       "    <tr>\n",
       "      <th>50%</th>\n",
       "      <td>1954.000000</td>\n",
       "      <td>3.700000</td>\n",
       "      <td>1976.000000</td>\n",
       "    </tr>\n",
       "    <tr>\n",
       "      <th>75%</th>\n",
       "      <td>2931.000000</td>\n",
       "      <td>4.100000</td>\n",
       "      <td>2002.000000</td>\n",
       "    </tr>\n",
       "    <tr>\n",
       "      <th>max</th>\n",
       "      <td>3908.000000</td>\n",
       "      <td>5.000000</td>\n",
       "      <td>2020.000000</td>\n",
       "    </tr>\n",
       "  </tbody>\n",
       "</table>\n",
       "</div>"
      ],
      "text/plain": [
       "        Unnamed: 0       Rating      Founded\n",
       "count  3909.000000  3909.000000  3909.000000\n",
       "mean   1954.000000     3.283576  1479.154771\n",
       "std    1128.575429     1.575749   855.750138\n",
       "min       0.000000    -1.000000    -1.000000\n",
       "25%     977.000000     3.200000  1625.000000\n",
       "50%    1954.000000     3.700000  1976.000000\n",
       "75%    2931.000000     4.100000  2002.000000\n",
       "max    3908.000000     5.000000  2020.000000"
      ]
     },
     "execution_count": 163,
     "metadata": {},
     "output_type": "execute_result"
    }
   ],
   "source": [
    "df.describe()"
   ]
  },
  {
   "cell_type": "markdown",
   "metadata": {},
   "source": [
    "## 5. Kiểu dữ liệu của mỗi cột? Có cột nào có kiểu dữ liệu chưa phù hợp để xử lý tiếp không?"
   ]
  },
  {
   "cell_type": "code",
   "execution_count": 164,
   "metadata": {},
   "outputs": [
    {
     "data": {
      "text/plain": [
       "Unnamed: 0             int64\n",
       "Job Title             object\n",
       "Salary Estimate       object\n",
       "Job Description       object\n",
       "Rating               float64\n",
       "Company Name          object\n",
       "Location              object\n",
       "Headquarters          object\n",
       "Size                  object\n",
       "Founded                int64\n",
       "Type of ownership     object\n",
       "Industry              object\n",
       "Sector                object\n",
       "Revenue               object\n",
       "Competitors           object\n",
       "Easy Apply            object\n",
       "dtype: object"
      ]
     },
     "execution_count": 164,
     "metadata": {},
     "output_type": "execute_result"
    }
   ],
   "source": [
    "col_dtype = df.dtypes\n",
    "col_dtype"
   ]
  },
  {
   "cell_type": "markdown",
   "metadata": {},
   "source": [
    "#### Nhận xét\n",
    "- Về mặt kiểu dữ liệu, các thuộc tính của tập dữ liệu này đã ở định dạng phù hợp, nên không cần phải xử lý."
   ]
  },
  {
   "cell_type": "markdown",
   "metadata": {},
   "source": [
    "## 6. Mỗi cột có ý nghĩa gì?"
   ]
  },
  {
   "cell_type": "markdown",
   "metadata": {},
   "source": [
    "Đầu tiên, ta có thể thấy cột 'Unnamed: 0' không có ý nghĩa trong df. Do đó, để làm gọn dataframe để dễ quản lý, ta cần bỏ cột này"
   ]
  },
  {
   "cell_type": "code",
   "execution_count": 165,
   "metadata": {},
   "outputs": [
    {
     "data": {
      "text/html": [
       "<div>\n",
       "<style scoped>\n",
       "    .dataframe tbody tr th:only-of-type {\n",
       "        vertical-align: middle;\n",
       "    }\n",
       "\n",
       "    .dataframe tbody tr th {\n",
       "        vertical-align: top;\n",
       "    }\n",
       "\n",
       "    .dataframe thead th {\n",
       "        text-align: right;\n",
       "    }\n",
       "</style>\n",
       "<table border=\"1\" class=\"dataframe\">\n",
       "  <thead>\n",
       "    <tr style=\"text-align: right;\">\n",
       "      <th></th>\n",
       "      <th>Job Title</th>\n",
       "      <th>Salary Estimate</th>\n",
       "      <th>Job Description</th>\n",
       "      <th>Rating</th>\n",
       "      <th>Company Name</th>\n",
       "      <th>Location</th>\n",
       "      <th>Headquarters</th>\n",
       "      <th>Size</th>\n",
       "      <th>Founded</th>\n",
       "      <th>Type of ownership</th>\n",
       "      <th>Industry</th>\n",
       "      <th>Sector</th>\n",
       "      <th>Revenue</th>\n",
       "      <th>Competitors</th>\n",
       "      <th>Easy Apply</th>\n",
       "    </tr>\n",
       "    <tr>\n",
       "      <th>index</th>\n",
       "      <th></th>\n",
       "      <th></th>\n",
       "      <th></th>\n",
       "      <th></th>\n",
       "      <th></th>\n",
       "      <th></th>\n",
       "      <th></th>\n",
       "      <th></th>\n",
       "      <th></th>\n",
       "      <th></th>\n",
       "      <th></th>\n",
       "      <th></th>\n",
       "      <th></th>\n",
       "      <th></th>\n",
       "      <th></th>\n",
       "    </tr>\n",
       "  </thead>\n",
       "  <tbody>\n",
       "    <tr>\n",
       "      <th>0</th>\n",
       "      <td>Senior Data Scientist</td>\n",
       "      <td>$111K-$181K (Glassdoor est.)</td>\n",
       "      <td>ABOUT HOPPER\\r\\n\\r\\nAt Hopper, we’re on a miss...</td>\n",
       "      <td>3.5</td>\n",
       "      <td>Hopper\\r\\n3.5</td>\n",
       "      <td>New York, NY</td>\n",
       "      <td>Montreal, Canada</td>\n",
       "      <td>501 to 1000 employees</td>\n",
       "      <td>2007</td>\n",
       "      <td>Company - Private</td>\n",
       "      <td>Travel Agencies</td>\n",
       "      <td>Travel &amp; Tourism</td>\n",
       "      <td>Unknown / Non-Applicable</td>\n",
       "      <td>-1</td>\n",
       "      <td>-1</td>\n",
       "    </tr>\n",
       "    <tr>\n",
       "      <th>1</th>\n",
       "      <td>Data Scientist, Product Analytics</td>\n",
       "      <td>$111K-$181K (Glassdoor est.)</td>\n",
       "      <td>At Noom, we use scientifically proven methods ...</td>\n",
       "      <td>4.5</td>\n",
       "      <td>Noom US\\r\\n4.5</td>\n",
       "      <td>New York, NY</td>\n",
       "      <td>New York, NY</td>\n",
       "      <td>1001 to 5000 employees</td>\n",
       "      <td>2008</td>\n",
       "      <td>Company - Private</td>\n",
       "      <td>Health, Beauty, &amp; Fitness</td>\n",
       "      <td>Consumer Services</td>\n",
       "      <td>Unknown / Non-Applicable</td>\n",
       "      <td>-1</td>\n",
       "      <td>-1</td>\n",
       "    </tr>\n",
       "    <tr>\n",
       "      <th>2</th>\n",
       "      <td>Data Science Manager</td>\n",
       "      <td>$111K-$181K (Glassdoor est.)</td>\n",
       "      <td>Decode_M\\r\\n\\r\\nhttps://www.decode-m.com/\\r\\n\\...</td>\n",
       "      <td>-1.0</td>\n",
       "      <td>Decode_M</td>\n",
       "      <td>New York, NY</td>\n",
       "      <td>New York, NY</td>\n",
       "      <td>1 to 50 employees</td>\n",
       "      <td>-1</td>\n",
       "      <td>Unknown</td>\n",
       "      <td>-1</td>\n",
       "      <td>-1</td>\n",
       "      <td>Unknown / Non-Applicable</td>\n",
       "      <td>-1</td>\n",
       "      <td>True</td>\n",
       "    </tr>\n",
       "    <tr>\n",
       "      <th>3</th>\n",
       "      <td>Data Analyst</td>\n",
       "      <td>$111K-$181K (Glassdoor est.)</td>\n",
       "      <td>Sapphire Digital seeks a dynamic and driven mi...</td>\n",
       "      <td>3.4</td>\n",
       "      <td>Sapphire Digital\\r\\n3.4</td>\n",
       "      <td>Lyndhurst, NJ</td>\n",
       "      <td>Lyndhurst, NJ</td>\n",
       "      <td>201 to 500 employees</td>\n",
       "      <td>2019</td>\n",
       "      <td>Company - Private</td>\n",
       "      <td>Internet</td>\n",
       "      <td>Information Technology</td>\n",
       "      <td>Unknown / Non-Applicable</td>\n",
       "      <td>Zocdoc, Healthgrades</td>\n",
       "      <td>-1</td>\n",
       "    </tr>\n",
       "    <tr>\n",
       "      <th>4</th>\n",
       "      <td>Director, Data Science</td>\n",
       "      <td>$111K-$181K (Glassdoor est.)</td>\n",
       "      <td>Director, Data Science - (200537)\\r\\nDescripti...</td>\n",
       "      <td>3.4</td>\n",
       "      <td>United Entertainment Group\\r\\n3.4</td>\n",
       "      <td>New York, NY</td>\n",
       "      <td>New York, NY</td>\n",
       "      <td>51 to 200 employees</td>\n",
       "      <td>2007</td>\n",
       "      <td>Company - Private</td>\n",
       "      <td>Advertising &amp; Marketing</td>\n",
       "      <td>Business Services</td>\n",
       "      <td>Unknown / Non-Applicable</td>\n",
       "      <td>BBDO, Grey Group, Droga5</td>\n",
       "      <td>-1</td>\n",
       "    </tr>\n",
       "  </tbody>\n",
       "</table>\n",
       "</div>"
      ],
      "text/plain": [
       "                               Job Title               Salary Estimate  \\\n",
       "index                                                                    \n",
       "0                  Senior Data Scientist  $111K-$181K (Glassdoor est.)   \n",
       "1      Data Scientist, Product Analytics  $111K-$181K (Glassdoor est.)   \n",
       "2                   Data Science Manager  $111K-$181K (Glassdoor est.)   \n",
       "3                           Data Analyst  $111K-$181K (Glassdoor est.)   \n",
       "4                 Director, Data Science  $111K-$181K (Glassdoor est.)   \n",
       "\n",
       "                                         Job Description  Rating  \\\n",
       "index                                                              \n",
       "0      ABOUT HOPPER\\r\\n\\r\\nAt Hopper, we’re on a miss...     3.5   \n",
       "1      At Noom, we use scientifically proven methods ...     4.5   \n",
       "2      Decode_M\\r\\n\\r\\nhttps://www.decode-m.com/\\r\\n\\...    -1.0   \n",
       "3      Sapphire Digital seeks a dynamic and driven mi...     3.4   \n",
       "4      Director, Data Science - (200537)\\r\\nDescripti...     3.4   \n",
       "\n",
       "                            Company Name       Location      Headquarters  \\\n",
       "index                                                                       \n",
       "0                          Hopper\\r\\n3.5   New York, NY  Montreal, Canada   \n",
       "1                         Noom US\\r\\n4.5   New York, NY      New York, NY   \n",
       "2                               Decode_M   New York, NY      New York, NY   \n",
       "3                Sapphire Digital\\r\\n3.4  Lyndhurst, NJ     Lyndhurst, NJ   \n",
       "4      United Entertainment Group\\r\\n3.4   New York, NY      New York, NY   \n",
       "\n",
       "                         Size  Founded  Type of ownership  \\\n",
       "index                                                       \n",
       "0       501 to 1000 employees     2007  Company - Private   \n",
       "1      1001 to 5000 employees     2008  Company - Private   \n",
       "2           1 to 50 employees       -1            Unknown   \n",
       "3        201 to 500 employees     2019  Company - Private   \n",
       "4         51 to 200 employees     2007  Company - Private   \n",
       "\n",
       "                        Industry                  Sector  \\\n",
       "index                                                      \n",
       "0                Travel Agencies        Travel & Tourism   \n",
       "1      Health, Beauty, & Fitness       Consumer Services   \n",
       "2                             -1                      -1   \n",
       "3                       Internet  Information Technology   \n",
       "4        Advertising & Marketing       Business Services   \n",
       "\n",
       "                        Revenue               Competitors Easy Apply  \n",
       "index                                                                 \n",
       "0      Unknown / Non-Applicable                        -1         -1  \n",
       "1      Unknown / Non-Applicable                        -1         -1  \n",
       "2      Unknown / Non-Applicable                        -1       True  \n",
       "3      Unknown / Non-Applicable      Zocdoc, Healthgrades         -1  \n",
       "4      Unknown / Non-Applicable  BBDO, Grey Group, Droga5         -1  "
      ]
     },
     "execution_count": 165,
     "metadata": {},
     "output_type": "execute_result"
    }
   ],
   "source": [
    "df = df.drop('Unnamed: 0',axis=1)\n",
    "df.head()"
   ]
  },
  {
   "cell_type": "markdown",
   "metadata": {},
   "source": [
    "## 7. Với mỗi cột có kiểu dữ liệu số, các giá trị được phân bố như thế nào?"
   ]
  },
  {
   "cell_type": "markdown",
   "metadata": {},
   "source": [
    "Với các cột có kiểu dữ liệu số, ta sẽ tính:\n",
    "- Tỉ lệ % (từ 0 đến 100) các giá trị thiếu \n",
    "- Giá trị min\n",
    "- Giá trị lower quartile (phân vị 25)\n",
    "- Giá trị median (phân vị 50)\n",
    "- Giá trị upper quartile (phân vị 75)\n",
    "- Giá trị max\n",
    "\n",
    "Bạn sẽ lưu kết quả vào DataFrame `num_col_info_df`, trong đó: \n",
    "- Tên của các cột là tên của các cột số trong `df`\n",
    "- Tên của các dòng là: \"missing_ratio\", \"min\", \"lower_quartile\", \"median\", \"upper_quartile\", \"max\"  "
   ]
  },
  {
   "cell_type": "code",
   "execution_count": 166,
   "metadata": {},
   "outputs": [],
   "source": [
    "data = {\n",
    "    \"row_name\" : [\"missing_ratio\", \"min\", \"lower_quartile\", \"median\", \"upper_quartile\", \"max\"]\n",
    "}\n",
    "col_name = []\n",
    "for i in df.columns:\n",
    "    if (df[i].dtypes == 'float64') or (df[i].dtypes == 'int64'):\n",
    "        col_name.append(i)\n",
    "\n",
    "for i in col_name:\n",
    "    _data = []\n",
    "    missing_data = df[i].isna().sum()\n",
    "    _data.append((missing_data / len(df[i]) * 100).round(1))\n",
    "    _data.append(df[i].min())\n",
    "    percentile = df[i].quantile([0.25,0.5,0.75])\n",
    "    _data.append(percentile[0.25])\n",
    "    _data.append(percentile[0.5])\n",
    "    _data.append(percentile[0.75])\n",
    "    _data.append(df[i].max())\n",
    "    data[i] = _data\n",
    "num_col_info_df = pd.DataFrame(data).set_index('row_name')"
   ]
  },
  {
   "cell_type": "code",
   "execution_count": 167,
   "metadata": {},
   "outputs": [
    {
     "data": {
      "text/html": [
       "<div>\n",
       "<style scoped>\n",
       "    .dataframe tbody tr th:only-of-type {\n",
       "        vertical-align: middle;\n",
       "    }\n",
       "\n",
       "    .dataframe tbody tr th {\n",
       "        vertical-align: top;\n",
       "    }\n",
       "\n",
       "    .dataframe thead th {\n",
       "        text-align: right;\n",
       "    }\n",
       "</style>\n",
       "<table border=\"1\" class=\"dataframe\">\n",
       "  <thead>\n",
       "    <tr style=\"text-align: right;\">\n",
       "      <th></th>\n",
       "      <th>Rating</th>\n",
       "      <th>Founded</th>\n",
       "    </tr>\n",
       "    <tr>\n",
       "      <th>row_name</th>\n",
       "      <th></th>\n",
       "      <th></th>\n",
       "    </tr>\n",
       "  </thead>\n",
       "  <tbody>\n",
       "    <tr>\n",
       "      <th>missing_ratio</th>\n",
       "      <td>0.0</td>\n",
       "      <td>0.0</td>\n",
       "    </tr>\n",
       "    <tr>\n",
       "      <th>min</th>\n",
       "      <td>-1.0</td>\n",
       "      <td>-1.0</td>\n",
       "    </tr>\n",
       "    <tr>\n",
       "      <th>lower_quartile</th>\n",
       "      <td>3.2</td>\n",
       "      <td>1625.0</td>\n",
       "    </tr>\n",
       "    <tr>\n",
       "      <th>median</th>\n",
       "      <td>3.7</td>\n",
       "      <td>1976.0</td>\n",
       "    </tr>\n",
       "    <tr>\n",
       "      <th>upper_quartile</th>\n",
       "      <td>4.1</td>\n",
       "      <td>2002.0</td>\n",
       "    </tr>\n",
       "    <tr>\n",
       "      <th>max</th>\n",
       "      <td>5.0</td>\n",
       "      <td>2020.0</td>\n",
       "    </tr>\n",
       "  </tbody>\n",
       "</table>\n",
       "</div>"
      ],
      "text/plain": [
       "                Rating  Founded\n",
       "row_name                       \n",
       "missing_ratio      0.0      0.0\n",
       "min               -1.0     -1.0\n",
       "lower_quartile     3.2   1625.0\n",
       "median             3.7   1976.0\n",
       "upper_quartile     4.1   2002.0\n",
       "max                5.0   2020.0"
      ]
     },
     "execution_count": 167,
     "metadata": {},
     "output_type": "execute_result"
    }
   ],
   "source": [
    "num_col_info_df"
   ]
  },
  {
   "cell_type": "markdown",
   "metadata": {},
   "source": [
    "**Có giá trị không hợp lệ trong mỗi cột không? (không xét giá trị thiếu)**\n"
   ]
  },
  {
   "cell_type": "markdown",
   "metadata": {},
   "source": [
    "## 8. Với mỗi cột có kiểu dữ liệu không phải dạng số, các giá trị được phân bố như thế nào?"
   ]
  },
  {
   "cell_type": "code",
   "execution_count": null,
   "metadata": {},
   "outputs": [],
   "source": []
  },
  {
   "cell_type": "markdown",
   "metadata": {},
   "source": [
    "# 9. So sánh doanh thu giữa các lĩnh vực: "
   ]
  },
  {
   "cell_type": "markdown",
   "metadata": {},
   "source": [
    "### Liệt kê danh sách tất cả các lĩnh vực có trong datadrame: "
   ]
  },
  {
   "cell_type": "code",
   "execution_count": 168,
   "metadata": {},
   "outputs": [
    {
     "data": {
      "text/plain": [
       "array(['Travel & Tourism', 'Consumer Services', '-1',\n",
       "       'Information Technology', 'Business Services', 'Insurance',\n",
       "       'Finance', 'Retail', 'Media', 'Restaurants, Bars & Food Services',\n",
       "       'Agriculture & Forestry', 'Non-Profit', 'Education', 'Government',\n",
       "       'Health Care', 'Oil, Gas, Energy & Utilities',\n",
       "       'Accounting & Legal', 'Manufacturing', 'Real Estate',\n",
       "       'Biotech & Pharmaceuticals', 'Arts, Entertainment & Recreation',\n",
       "       'Aerospace & Defense', 'Construction, Repair & Maintenance',\n",
       "       'Transportation & Logistics', 'Telecommunications',\n",
       "       'Mining & Metals'], dtype=object)"
      ]
     },
     "execution_count": 168,
     "metadata": {},
     "output_type": "execute_result"
    }
   ],
   "source": [
    "def create_df(): \n",
    "    df = pd.read_csv('archive/DataScientist.csv',index_col='index')\n",
    "    return df\n",
    "df = create_df();\n",
    "compare_sector = df['Sector']\n",
    "pd.unique(compare_sector)\n",
    "    "
   ]
  },
  {
   "cell_type": "markdown",
   "metadata": {},
   "source": [
    "### Tạo 1 dataframe mới bao gồm tên lĩnh vực và doanh thu của mỗi lĩnh vực:"
   ]
  },
  {
   "cell_type": "code",
   "execution_count": 169,
   "metadata": {},
   "outputs": [
    {
     "data": {
      "text/plain": [
       "index\n",
       "0                Travel & Tourism\n",
       "1               Consumer Services\n",
       "2                              -1\n",
       "3          Information Technology\n",
       "4               Business Services\n",
       "                  ...            \n",
       "4375       Information Technology\n",
       "4376       Information Technology\n",
       "4377            Business Services\n",
       "4378           Accounting & Legal\n",
       "4379    Biotech & Pharmaceuticals\n",
       "Name: Sector, Length: 3909, dtype: object"
      ]
     },
     "execution_count": 169,
     "metadata": {},
     "output_type": "execute_result"
    }
   ],
   "source": [
    "compare_sector = df[['Sector','Revenue']];\n",
    "(compare_sector.Sector)"
   ]
  },
  {
   "cell_type": "markdown",
   "metadata": {},
   "source": [
    "### Ta thấy dữ liệu của cột doanh thu (Revenue) còn chưa xử lý nên tiếp theo ta phải xử lý dữ liệu ở cột này: "
   ]
  },
  {
   "cell_type": "markdown",
   "metadata": {},
   "source": [
    "#### Đầu tiên ta cần loại bỏ các lĩnh vực không xác định-các lĩnh vực có giá trị -1: \n",
    "#### Tiếp đó ta sẽ convert loại dữ liệu này sang kiểu số để có thể so sánh doanh thu của từng lĩnh vựa."
   ]
  },
  {
   "cell_type": "code",
   "execution_count": 170,
   "metadata": {},
   "outputs": [],
   "source": [
    "\n",
    "def del_null_Sector_col(df):\n",
    "    df =df[df['Sector'] !='-1']\n",
    "    return df"
   ]
  },
  {
   "cell_type": "markdown",
   "metadata": {},
   "source": [
    "#### Đầu tiên ta cần loại bỏ các lĩnh vực không thống kê được doanh thu ('Unknown/Non-Applicable'):"
   ]
  },
  {
   "cell_type": "code",
   "execution_count": 171,
   "metadata": {},
   "outputs": [],
   "source": [
    "def del_null_Revenue_col(df): \n",
    "    df =df[df['Revenue'] !='Unknown / Non-Applicable']\n",
    "    df = df[df['Revenue'] !='-1']\n",
    "    df = df.reset_index(drop=True)\n",
    "    return df\n",
    "\n",
    "def get_size_col(df_col):\n",
    "    return df_col.size;"
   ]
  },
  {
   "cell_type": "markdown",
   "metadata": {},
   "source": [
    "### Bây giờ chúng ta cần phải sử lí dữ liệu ở cột doanh thu(Revenue). Chúng ta cần đổi dữ liệu trong cột này thành kiểu numeric thay vì object như hiện giờ.\n",
    "#### Đối với các cột có doanh thu là 'A to B' thì chúng ta sẽ lấy trung bình cộng của chúng và với các cột có dữ liệu là 'A+' thì chúng ta sẽ lấy giá trị đó - bớt 0,2 nếu nó <1 và -.5 nếu nó lớn hơn 1."
   ]
  },
  {
   "cell_type": "code",
   "execution_count": 245,
   "metadata": {},
   "outputs": [],
   "source": [
    "#chọn 2 cột Sector và Revenue\n",
    "def create_select_df(df):\n",
    "    select_df = df[['Sector','Revenue']];\n",
    "    select_df = del_null_Sector_col(select_df);\n",
    "    select_df = del_null_Revenue_col(select_df);\n",
    "    return select_df;\n",
    "#xứt lí xóa đơn vị trong cột Revenue\n",
    "def _Revenue_Unit_processing(s):\n",
    "    position = s.find('million');\n",
    "    unit='million';\n",
    "    if(position==-1): \n",
    "        position =s.find('billion');\n",
    "        unit='billion';\n",
    "    return position,unit;\n",
    "#xử lí các tiền tố '+','less than' và cắt 'to' đối với giá trị trong cột Revenue\n",
    "def handle_Revenue(s): \n",
    "    s=s.replace('$','');\n",
    "    s=s.replace('to','');\n",
    "    if ('Less than' in s): \n",
    "        s= s.replace('Less than','')\n",
    "        if ( float(s) <=1 ): \n",
    "            s= str(float(s)-0.2)\n",
    "        else: s= (str(float(s) -0.5));\n",
    "    if ('+' in s): \n",
    "        s=s.replace('+', '')\n",
    "        if(float(s)<=10): \n",
    "            s = str(float(s) + 0.2)\n",
    "        else: s = (str(float(s) +0.5))\n",
    "    return s\n",
    "#tính trung bình nếu giá trị trong cột Revenue là 'to'\n",
    "def avg_Revenue(s): \n",
    "    a=[]\n",
    "    s=s.split('  ')\n",
    "#     print(s)\n",
    "    s = list(map(float,s))\n",
    "    if (len(s)>1):\n",
    "        s= ((s[0] + s[1])/2);\n",
    "        return s\n",
    "    return s[0]\n",
    "\n",
    "compare_sector = create_select_df(df);\n",
    "unit_col = [];\n",
    "size = get_size_col(compare_sector.Revenue)\n",
    "# print(compare_sector.Revenue)\n",
    "for i in range(size): \n",
    "    position,unit = _Revenue_Unit_processing(compare_sector.Revenue[i]);\n",
    "    unit_col.append(unit)\n",
    "    compare_sector.Revenue[i] = compare_sector.Revenue[i][:position]\n",
    "    compare_sector.Revenue[i] = handle_Revenue(compare_sector.Revenue[i])\n",
    "#     print(compare_sector.Revenue[i])\n",
    "    compare_sector.Revenue[i] = avg_Revenue(compare_sector.Revenue[i])\n",
    "compare_sector['Unit(USD)'] = unit_col\n",
    "compare_sector.loc[compare_sector['Unit(USD)']=='billion', 'Revenue'] = compare_sector.Revenue *1000\n",
    "del compare_sector['Unit(USD)']"
   ]
  },
  {
   "cell_type": "markdown",
   "metadata": {},
   "source": [
    "# Gộp các sector trùng lại và lấy Revenue là trung bình doanh thu của tất cả các sector đó:"
   ]
  },
  {
   "cell_type": "code",
   "execution_count": 246,
   "metadata": {},
   "outputs": [
    {
     "data": {
      "text/html": [
       "<div>\n",
       "<style scoped>\n",
       "    .dataframe tbody tr th:only-of-type {\n",
       "        vertical-align: middle;\n",
       "    }\n",
       "\n",
       "    .dataframe tbody tr th {\n",
       "        vertical-align: top;\n",
       "    }\n",
       "\n",
       "    .dataframe thead th {\n",
       "        text-align: right;\n",
       "    }\n",
       "</style>\n",
       "<table border=\"1\" class=\"dataframe\">\n",
       "  <thead>\n",
       "    <tr style=\"text-align: right;\">\n",
       "      <th></th>\n",
       "      <th>Revenue</th>\n",
       "    </tr>\n",
       "    <tr>\n",
       "      <th>Sector</th>\n",
       "      <th></th>\n",
       "    </tr>\n",
       "  </thead>\n",
       "  <tbody>\n",
       "    <tr>\n",
       "      <th>Insurance</th>\n",
       "      <td>7812.368652</td>\n",
       "    </tr>\n",
       "    <tr>\n",
       "      <th>Media</th>\n",
       "      <td>5967.073242</td>\n",
       "    </tr>\n",
       "    <tr>\n",
       "      <th>Finance</th>\n",
       "      <td>5552.650391</td>\n",
       "    </tr>\n",
       "    <tr>\n",
       "      <th>Aerospace &amp; Defense</th>\n",
       "      <td>5363.799805</td>\n",
       "    </tr>\n",
       "    <tr>\n",
       "      <th>Biotech &amp; Pharmaceuticals</th>\n",
       "      <td>4859.544434</td>\n",
       "    </tr>\n",
       "    <tr>\n",
       "      <th>Telecommunications</th>\n",
       "      <td>4653.026367</td>\n",
       "    </tr>\n",
       "    <tr>\n",
       "      <th>Retail</th>\n",
       "      <td>4593.634277</td>\n",
       "    </tr>\n",
       "    <tr>\n",
       "      <th>Manufacturing</th>\n",
       "      <td>4527.015137</td>\n",
       "    </tr>\n",
       "    <tr>\n",
       "      <th>Oil, Gas, Energy &amp; Utilities</th>\n",
       "      <td>4202.260742</td>\n",
       "    </tr>\n",
       "    <tr>\n",
       "      <th>Government</th>\n",
       "      <td>3936.953125</td>\n",
       "    </tr>\n",
       "  </tbody>\n",
       "</table>\n",
       "</div>"
      ],
      "text/plain": [
       "                                  Revenue\n",
       "Sector                                   \n",
       "Insurance                     7812.368652\n",
       "Media                         5967.073242\n",
       "Finance                       5552.650391\n",
       "Aerospace & Defense           5363.799805\n",
       "Biotech & Pharmaceuticals     4859.544434\n",
       "Telecommunications            4653.026367\n",
       "Retail                        4593.634277\n",
       "Manufacturing                 4527.015137\n",
       "Oil, Gas, Energy & Utilities  4202.260742\n",
       "Government                    3936.953125"
      ]
     },
     "execution_count": 246,
     "metadata": {},
     "output_type": "execute_result"
    }
   ],
   "source": [
    "compare_sector.Revenue= compare_sector.Revenue.astype('float32',errors='ignore')\n",
    "df2 = compare_sector.groupby('Sector')[['Revenue']].mean().sort_values(['Revenue'],ascending=False).head(10)\n",
    "df2\n"
   ]
  },
  {
   "cell_type": "markdown",
   "metadata": {},
   "source": [
    "# Vẽ biểu đồ cột biểu thị doanh thu của mỗi sector đối với top 10 sector:"
   ]
  },
  {
   "cell_type": "code",
   "execution_count": 247,
   "metadata": {},
   "outputs": [
    {
     "data": {
      "image/png": "[encoded data removed]",
      "text/plain": [
       "<Figure size 1000x500 with 1 Axes>"
      ]
     },
     "metadata": {},
     "output_type": "display_data"
    }
   ],
   "source": [
    "df2.reset_index(inplace=True)\n",
    "plt.figure(figsize=(10,5))\n",
    "chart = sns.barplot(\n",
    "    data=df2,\n",
    "    x='Revenue',\n",
    "    y='Sector',\n",
    "    orient ='h'\n",
    ")\n",
    "\n",
    "chart.set_yticklabels(\n",
    "    chart.get_yticklabels(), \n",
    "    rotation=0, \n",
    "    horizontalalignment='right',\n",
    "    fontweight='light',\n",
    " \n",
    ")\n",
    "chart.axes.xaxis.label.set_text(\"Revenue(Million dollars)\")"
   ]
  },
  {
   "cell_type": "markdown",
   "metadata": {},
   "source": [
    "# Ý nghĩa: qua phân tích ta thấy rất là nhiều lĩnh vực cần phân tích dữ liệu"
   ]
  },
  {
   "cell_type": "code",
   "execution_count": null,
   "metadata": {},
   "outputs": [],
   "source": []
  },
  {
   "cell_type": "code",
   "execution_count": null,
   "metadata": {},
   "outputs": [],
   "source": []
  },
  {
   "cell_type": "code",
   "execution_count": null,
   "metadata": {},
   "outputs": [],
   "source": []
  }
 ],
 "metadata": {
  "kernelspec": {
   "display_name": "Python 3 (ipykernel)",
   "language": "python",
   "name": "python3"
  },
  "language_info": {
   "codemirror_mode": {
    "name": "ipython",
    "version": 3
   },
   "file_extension": ".py",
   "mimetype": "text/x-python",
   "name": "python",
   "nbconvert_exporter": "python",
   "pygments_lexer": "ipython3",
   "version": "3.8.8"
  },
  "vscode": {
   "interpreter": {
    "hash": "a42ccb73e7d9bfdf27e036f1d2b8b681e55fc0743cc5586bc2474d4a60f4b886"
   }
  }
 },
 "nbformat": 4,
 "nbformat_minor": 4
}
