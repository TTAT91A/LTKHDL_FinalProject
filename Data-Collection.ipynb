{
 "cells": [
  {
   "cell_type": "markdown",
   "metadata": {},
   "source": [
    "# ĐỒ ÁN THỰC HÀNH LẬP TRÌNH CHO KHOA HỌC DỮ LIỆU"
   ]
  },
  {
   "cell_type": "markdown",
   "metadata": {},
   "source": [
    "# A. Thu thập dữ liệu"
   ]
  },
  {
   "cell_type": "markdown",
   "metadata": {},
   "source": [
    "### I. Giới thiệu chủ đề và thông tin tập dữ liệu"
   ]
  },
  {
   "cell_type": "markdown",
   "metadata": {},
   "source": [
    "#### 1. Chủ đề\n",
    "\n",
    "Tên chủ đề: Data Scientist Jobs\n",
    "\n",
    "#### 2. Lý do lựa chọn chủ đề và tập dữ liệu\n",
    "\n",
    "Ngành khoa học dữ liệu đang là 1 ngành rất hot và rất quan trọng đối với 1 doanh nghiệp về mảng công nghệ thông tin, nhưng ở Việt Nam thì nhu cầu tuyển dụng của các công ty về ví trị này là khá ít. Và cũng chính vì vậy nhóm muốn tìm hiểu thêm về nhu cầu và mức lương của các doanh nghiệp đối với ngành này ở trên thé giới, thông qua các mô tả công việc để biết thêm về những kĩ năng mà 1 data sciencetist cần.\n",
    "\n",
    "Cung cấp cho người xem, người đọc cái nhìn tổng quan về nhu cầu tuyển dụng và mức lương có thể đạt được khi theo ngành khoa học dữ liệu; các chức vụ, vị trí hot trong ngành; đánh giá nhu cầu 1 số doanh nghiệp lớn…\n",
    "\n",
    "#### 3. Thông tin tập dữ liệu\n",
    "\n",
    "Dữ liệu này được tạo bởi https://github.com/picklesueat/data_jobs_data và bao gồm hơn 3900 danh sách công việc cho các vị trí Khoa học dữ liệu, với các thuộc tính:\n",
    "- Salary Estimate\n",
    "- Location\n",
    "- Company Rating\n",
    "- Job Description\n",
    "- ...\n",
    "\n",
    "Nguồn dữ liệu: https://www.kaggle.com/datasets/andrewmvd/data-scientist-jobs\n",
    "\n",
    "Phương pháp thu thập:\n",
    "- Người ta cào dữ liệu từ https://www.glassdoor.com/Job/data-scientist-jobs-SRCH_KO0,14.htm\n",
    "\n",
    "Giấy phép: được cấp phép theo MIT License"
   ]
  },
  {
   "cell_type": "markdown",
   "metadata": {},
   "source": [
    "### II. Tổng quan về cấu trúc tập dữ liệu\n"
   ]
  },
  {
   "cell_type": "markdown",
   "metadata": {},
   "source": [
    "#### 1. Thời điểm thu thập dữ liệu\n",
    "\n",
    "Tập dữ liệu được nhóm thống nhất tải ở dạng file csv vào ngày 23/11/2022\n",
    "\n",
    "Dữ liệu gồm 3909 dòng và 17 cột"
   ]
  },
  {
   "cell_type": "markdown",
   "metadata": {},
   "source": [
    "### 2. Cấu trúc tập dữ liệu\n",
    "Tập dữ liệu được tải xuống chỉ chứa duy nhất 1 bảng, gồm 17 thuộc tính được mô tả như sau:\n",
    "- **Unnamed: 0**: ID\n",
    "- **index**: same as ID\n",
    "- **Job Title**: Job Title\n",
    "- **Salary Estimate**: Salary Estimate\n",
    "- **Job Description**: Job Description\n",
    "- **Rating**: Company rating\n",
    "- **Company name**: Company name\n",
    "- **Job location**: Job location\n",
    "- **Headquarters**: Company headquarters location\n",
    "- **Size**: Company size\n",
    "- **Founded**: Year company was founded\n",
    "- **Type of ownership**: Type of company ownership\n",
    "- **Industry**: Industry\n",
    "- **Sector**: Sector within industry\n",
    "- **Revenue**: Yearly revenue\n",
    "- **Competitors**: Main competitor\n",
    "- **Easy Apply**: Whether easy apply is available or not"
   ]
  }
 ],
 "metadata": {
  "kernelspec": {
   "display_name": "Python 3.10.0 64-bit",
   "language": "python",
   "name": "python3"
  },
  "language_info": {
   "codemirror_mode": {
    "name": "ipython",
    "version": 3
   },
   "file_extension": ".py",
   "mimetype": "text/x-python",
   "name": "python",
   "nbconvert_exporter": "python",
   "pygments_lexer": "ipython3",
   "version": "3.10.0"
  },
  "orig_nbformat": 4,
  "vscode": {
   "interpreter": {
    "hash": "a42ccb73e7d9bfdf27e036f1d2b8b681e55fc0743cc5586bc2474d4a60f4b886"
   }
  }
 },
 "nbformat": 4,
 "nbformat_minor": 2
}
