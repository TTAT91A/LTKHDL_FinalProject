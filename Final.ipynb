{
 "cells": [
  {
   "cell_type": "markdown",
   "metadata": {},
   "source": [
    "# ĐỒ ÁN THỰC HÀNH LẬP TRÌNH CHO KHOA HỌC DỮ LIỆU"
   ]
  },
  {
   "cell_type": "markdown",
   "metadata": {},
   "source": [
    "# A. Thu thập dữ liệu"
   ]
  },
  {
   "cell_type": "markdown",
   "metadata": {},
   "source": [
    "### I. Giới thiệu chủ đề và thông tin tập dữ liệu"
   ]
  },
  {
   "cell_type": "markdown",
   "metadata": {},
   "source": [
    "#### 1. Chủ đề\n",
    "\n",
    "Tên chủ đề: Data Scientist Jobs\n",
    "\n",
    "#### 2. Lý do lựa chọn chủ đề và tập dữ liệu\n",
    "\n",
    "Ngành khoa học dữ liệu đang là 1 ngành rất hot và rất quan trọng đối với 1 doanh nghiệp về mảng công nghệ thông tin, nhưng ở Việt Nam thì nhu cầu tuyển dụng của các công ty về ví trị này là khá ít. Và cũng chính vì vậy nhóm muốn tìm hiểu thêm về nhu cầu và mức lương của các doanh nghiệp đối với ngành này ở trên thế giới, thông qua các mô tả công việc để biết thêm về những kĩ năng mà 1 data sciencetist cần.\n",
    "\n",
    "Cung cấp cho người xem, người đọc cái nhìn tổng quan về nhu cầu tuyển dụng và mức lương có thể đạt được khi theo ngành khoa học dữ liệu; các chức vụ, vị trí hot trong ngành; đánh giá nhu cầu 1 số doanh nghiệp lớn…\n",
    "\n",
    "#### 3. Thông tin tập dữ liệu\n",
    "\n",
    "Dữ liệu này được tạo bởi https://github.com/picklesueat/data_jobs_data và bao gồm hơn 3900 danh sách công việc cho các vị trí Khoa học dữ liệu, với các thuộc tính:\n",
    "- Salary Estimate\n",
    "- Location\n",
    "- Company Rating\n",
    "- Job Description\n",
    "- ...\n",
    "\n",
    "Nguồn dữ liệu: https://www.kaggle.com/datasets/andrewmvd/data-scientist-jobs\n",
    "\n",
    "Phương pháp thu thập:\n",
    "- Người ta cào dữ liệu từ https://www.glassdoor.com/Job/data-scientist-jobs-SRCH_KO0,14.htm\n",
    "\n",
    "Giấy phép: được cấp phép theo MIT License"
   ]
  },
  {
   "cell_type": "markdown",
   "metadata": {},
   "source": [
    "### II. Tổng quan về cấu trúc tập dữ liệu\n"
   ]
  },
  {
   "cell_type": "markdown",
   "metadata": {},
   "source": [
    "#### 1. Thời điểm thu thập dữ liệu\n",
    "\n",
    "Tập dữ liệu được nhóm thống nhất tải ở dạng file csv vào ngày 23/11/2022\n",
    "\n",
    "Dữ liệu gồm 3909 dòng và 17 cột"
   ]
  },
  {
   "cell_type": "markdown",
   "metadata": {},
   "source": [
    "### 2. Cấu trúc tập dữ liệu\n",
    "Tập dữ liệu được tải xuống chỉ chứa duy nhất 1 bảng, gồm 17 thuộc tính được mô tả như sau:\n",
    "- **Unnamed: 0**: ID\n",
    "- **index**: same as ID\n",
    "- **Job Title**: Job Title\n",
    "- **Salary Estimate**: Salary Estimate\n",
    "- **Job Description**: Job Description\n",
    "- **Rating**: Company rating\n",
    "- **Company name**: Company name\n",
    "- **Location**: Job location\n",
    "- **Headquarters**: Company headquarters location\n",
    "- **Size**: Company size\n",
    "- **Founded**: Year company was founded\n",
    "- **Type of ownership**: Type of company ownership\n",
    "- **Industry**: Industry\n",
    "- **Sector**: Sector within industry\n",
    "- **Revenue**: Yearly revenue\n",
    "- **Competitors**: Main competitor\n",
    "- **Easy Apply**: Whether easy apply is available or not"
   ]
  },
  {
   "cell_type": "markdown",
   "metadata": {},
   "source": [
    "# B. Khám phá dữ liệu"
   ]
  },
  {
   "cell_type": "markdown",
   "metadata": {},
   "source": [
    "## 1. Đọc dữ liệu và tính số dòng, số cột"
   ]
  },
  {
   "cell_type": "markdown",
   "metadata": {},
   "source": [
    "Import các thư viện cần thiết"
   ]
  },
  {
   "cell_type": "code",
   "execution_count": 1,
   "metadata": {},
   "outputs": [],
   "source": [
    "import pandas as pd\n",
    "import numpy as np\n",
    "import matplotlib.pyplot as plt\n",
    "import warnings\n",
    "import seaborn as sns\n",
    "warnings.filterwarnings('ignore')"
   ]
  },
  {
   "cell_type": "markdown",
   "metadata": {},
   "source": [
    "Đọc file `DataScientist.csv` và in ra 5 dòng đầu tiên"
   ]
  },
  {
   "cell_type": "code",
   "execution_count": 2,
   "metadata": {},
   "outputs": [
    {
     "data": {
      "text/html": [
       "<div>\n",
       "<style scoped>\n",
       "    .dataframe tbody tr th:only-of-type {\n",
       "        vertical-align: middle;\n",
       "    }\n",
       "\n",
       "    .dataframe tbody tr th {\n",
       "        vertical-align: top;\n",
       "    }\n",
       "\n",
       "    .dataframe thead th {\n",
       "        text-align: right;\n",
       "    }\n",
       "</style>\n",
       "<table border=\"1\" class=\"dataframe\">\n",
       "  <thead>\n",
       "    <tr style=\"text-align: right;\">\n",
       "      <th></th>\n",
       "      <th>Unnamed: 0</th>\n",
       "      <th>index</th>\n",
       "      <th>Job Title</th>\n",
       "      <th>Salary Estimate</th>\n",
       "      <th>Job Description</th>\n",
       "      <th>Rating</th>\n",
       "      <th>Company Name</th>\n",
       "      <th>Location</th>\n",
       "      <th>Headquarters</th>\n",
       "      <th>Size</th>\n",
       "      <th>Founded</th>\n",
       "      <th>Type of ownership</th>\n",
       "      <th>Industry</th>\n",
       "      <th>Sector</th>\n",
       "      <th>Revenue</th>\n",
       "      <th>Competitors</th>\n",
       "      <th>Easy Apply</th>\n",
       "    </tr>\n",
       "  </thead>\n",
       "  <tbody>\n",
       "    <tr>\n",
       "      <th>0</th>\n",
       "      <td>0</td>\n",
       "      <td>0</td>\n",
       "      <td>Senior Data Scientist</td>\n",
       "      <td>$111K-$181K (Glassdoor est.)</td>\n",
       "      <td>ABOUT HOPPER\\r\\n\\r\\nAt Hopper, we’re on a miss...</td>\n",
       "      <td>3.5</td>\n",
       "      <td>Hopper\\r\\n3.5</td>\n",
       "      <td>New York, NY</td>\n",
       "      <td>Montreal, Canada</td>\n",
       "      <td>501 to 1000 employees</td>\n",
       "      <td>2007</td>\n",
       "      <td>Company - Private</td>\n",
       "      <td>Travel Agencies</td>\n",
       "      <td>Travel &amp; Tourism</td>\n",
       "      <td>Unknown / Non-Applicable</td>\n",
       "      <td>-1</td>\n",
       "      <td>-1</td>\n",
       "    </tr>\n",
       "    <tr>\n",
       "      <th>1</th>\n",
       "      <td>1</td>\n",
       "      <td>1</td>\n",
       "      <td>Data Scientist, Product Analytics</td>\n",
       "      <td>$111K-$181K (Glassdoor est.)</td>\n",
       "      <td>At Noom, we use scientifically proven methods ...</td>\n",
       "      <td>4.5</td>\n",
       "      <td>Noom US\\r\\n4.5</td>\n",
       "      <td>New York, NY</td>\n",
       "      <td>New York, NY</td>\n",
       "      <td>1001 to 5000 employees</td>\n",
       "      <td>2008</td>\n",
       "      <td>Company - Private</td>\n",
       "      <td>Health, Beauty, &amp; Fitness</td>\n",
       "      <td>Consumer Services</td>\n",
       "      <td>Unknown / Non-Applicable</td>\n",
       "      <td>-1</td>\n",
       "      <td>-1</td>\n",
       "    </tr>\n",
       "    <tr>\n",
       "      <th>2</th>\n",
       "      <td>2</td>\n",
       "      <td>2</td>\n",
       "      <td>Data Science Manager</td>\n",
       "      <td>$111K-$181K (Glassdoor est.)</td>\n",
       "      <td>Decode_M\\r\\n\\r\\nhttps://www.decode-m.com/\\r\\n\\...</td>\n",
       "      <td>-1.0</td>\n",
       "      <td>Decode_M</td>\n",
       "      <td>New York, NY</td>\n",
       "      <td>New York, NY</td>\n",
       "      <td>1 to 50 employees</td>\n",
       "      <td>-1</td>\n",
       "      <td>Unknown</td>\n",
       "      <td>-1</td>\n",
       "      <td>-1</td>\n",
       "      <td>Unknown / Non-Applicable</td>\n",
       "      <td>-1</td>\n",
       "      <td>True</td>\n",
       "    </tr>\n",
       "    <tr>\n",
       "      <th>3</th>\n",
       "      <td>3</td>\n",
       "      <td>3</td>\n",
       "      <td>Data Analyst</td>\n",
       "      <td>$111K-$181K (Glassdoor est.)</td>\n",
       "      <td>Sapphire Digital seeks a dynamic and driven mi...</td>\n",
       "      <td>3.4</td>\n",
       "      <td>Sapphire Digital\\r\\n3.4</td>\n",
       "      <td>Lyndhurst, NJ</td>\n",
       "      <td>Lyndhurst, NJ</td>\n",
       "      <td>201 to 500 employees</td>\n",
       "      <td>2019</td>\n",
       "      <td>Company - Private</td>\n",
       "      <td>Internet</td>\n",
       "      <td>Information Technology</td>\n",
       "      <td>Unknown / Non-Applicable</td>\n",
       "      <td>Zocdoc, Healthgrades</td>\n",
       "      <td>-1</td>\n",
       "    </tr>\n",
       "    <tr>\n",
       "      <th>4</th>\n",
       "      <td>4</td>\n",
       "      <td>4</td>\n",
       "      <td>Director, Data Science</td>\n",
       "      <td>$111K-$181K (Glassdoor est.)</td>\n",
       "      <td>Director, Data Science - (200537)\\r\\nDescripti...</td>\n",
       "      <td>3.4</td>\n",
       "      <td>United Entertainment Group\\r\\n3.4</td>\n",
       "      <td>New York, NY</td>\n",
       "      <td>New York, NY</td>\n",
       "      <td>51 to 200 employees</td>\n",
       "      <td>2007</td>\n",
       "      <td>Company - Private</td>\n",
       "      <td>Advertising &amp; Marketing</td>\n",
       "      <td>Business Services</td>\n",
       "      <td>Unknown / Non-Applicable</td>\n",
       "      <td>BBDO, Grey Group, Droga5</td>\n",
       "      <td>-1</td>\n",
       "    </tr>\n",
       "  </tbody>\n",
       "</table>\n",
       "</div>"
      ],
      "text/plain": [
       "   Unnamed: 0  index                          Job Title  \\\n",
       "0           0      0              Senior Data Scientist   \n",
       "1           1      1  Data Scientist, Product Analytics   \n",
       "2           2      2               Data Science Manager   \n",
       "3           3      3                       Data Analyst   \n",
       "4           4      4             Director, Data Science   \n",
       "\n",
       "                Salary Estimate  \\\n",
       "0  $111K-$181K (Glassdoor est.)   \n",
       "1  $111K-$181K (Glassdoor est.)   \n",
       "2  $111K-$181K (Glassdoor est.)   \n",
       "3  $111K-$181K (Glassdoor est.)   \n",
       "4  $111K-$181K (Glassdoor est.)   \n",
       "\n",
       "                                     Job Description  Rating  \\\n",
       "0  ABOUT HOPPER\\r\\n\\r\\nAt Hopper, we’re on a miss...     3.5   \n",
       "1  At Noom, we use scientifically proven methods ...     4.5   \n",
       "2  Decode_M\\r\\n\\r\\nhttps://www.decode-m.com/\\r\\n\\...    -1.0   \n",
       "3  Sapphire Digital seeks a dynamic and driven mi...     3.4   \n",
       "4  Director, Data Science - (200537)\\r\\nDescripti...     3.4   \n",
       "\n",
       "                        Company Name       Location      Headquarters  \\\n",
       "0                      Hopper\\r\\n3.5   New York, NY  Montreal, Canada   \n",
       "1                     Noom US\\r\\n4.5   New York, NY      New York, NY   \n",
       "2                           Decode_M   New York, NY      New York, NY   \n",
       "3            Sapphire Digital\\r\\n3.4  Lyndhurst, NJ     Lyndhurst, NJ   \n",
       "4  United Entertainment Group\\r\\n3.4   New York, NY      New York, NY   \n",
       "\n",
       "                     Size  Founded  Type of ownership  \\\n",
       "0   501 to 1000 employees     2007  Company - Private   \n",
       "1  1001 to 5000 employees     2008  Company - Private   \n",
       "2       1 to 50 employees       -1            Unknown   \n",
       "3    201 to 500 employees     2019  Company - Private   \n",
       "4     51 to 200 employees     2007  Company - Private   \n",
       "\n",
       "                    Industry                  Sector  \\\n",
       "0            Travel Agencies        Travel & Tourism   \n",
       "1  Health, Beauty, & Fitness       Consumer Services   \n",
       "2                         -1                      -1   \n",
       "3                   Internet  Information Technology   \n",
       "4    Advertising & Marketing       Business Services   \n",
       "\n",
       "                    Revenue               Competitors Easy Apply  \n",
       "0  Unknown / Non-Applicable                        -1         -1  \n",
       "1  Unknown / Non-Applicable                        -1         -1  \n",
       "2  Unknown / Non-Applicable                        -1       True  \n",
       "3  Unknown / Non-Applicable      Zocdoc, Healthgrades         -1  \n",
       "4  Unknown / Non-Applicable  BBDO, Grey Group, Droga5         -1  "
      ]
     },
     "execution_count": 2,
     "metadata": {},
     "output_type": "execute_result"
    }
   ],
   "source": [
    "df = pd.read_csv('archive/DataScientist.csv')\n",
    "df.head()"
   ]
  },
  {
   "cell_type": "markdown",
   "metadata": {},
   "source": [
    "Tính số dòng và số cột và lưu vào 2 biến `num_rows`, `num_cols`"
   ]
  },
  {
   "cell_type": "code",
   "execution_count": 3,
   "metadata": {},
   "outputs": [
    {
     "name": "stdout",
     "output_type": "stream",
     "text": [
      "Number of rows: 3909\n",
      "Number of columns: 17\n"
     ]
    }
   ],
   "source": [
    "num_rows,num_cols = df.shape\n",
    "print(f'Number of rows: {num_rows}\\nNumber of columns: {num_cols}')\n"
   ]
  },
  {
   "cell_type": "markdown",
   "metadata": {},
   "source": [
    "## 2. Mỗi dòng có ý nghĩa gì? Có vấn đề các dòng có ý nghĩa khác nhau không?"
   ]
  },
  {
   "cell_type": "markdown",
   "metadata": {},
   "source": [
    "Mỗi dòng trong tập dữ liệu là thông tin về vị trí tuyển dụng liên quan đến ngành Khoa học dữ liệu. Có vẻ không có vấn đề các dòng có ý nghĩa khác nhau, tức là không có dòng nào bị 'lạc loài'"
   ]
  },
  {
   "cell_type": "markdown",
   "metadata": {},
   "source": [
    "## 3. Dữ liệu có dòng nào bị lặp không?"
   ]
  },
  {
   "cell_type": "markdown",
   "metadata": {},
   "source": [
    "Ta kiểm tra xem có dòng nào bị lặp không bằng cách sử dụng `duplicated()` và `any()` trên dataframe `df` và lưu kết quả vào biến `have_duplicated_rows`. Biến này sẽ có giá trị True nếu dữ liệu có các dòng bị lặp và có giá trị False nếu không có dòng bị lặp."
   ]
  },
  {
   "cell_type": "code",
   "execution_count": 4,
   "metadata": {},
   "outputs": [
    {
     "data": {
      "text/plain": [
       "False"
      ]
     },
     "execution_count": 4,
     "metadata": {},
     "output_type": "execute_result"
    }
   ],
   "source": [
    "have_duplicate_rows = df.duplicated().any()\n",
    "have_duplicate_rows"
   ]
  },
  {
   "cell_type": "markdown",
   "metadata": {},
   "source": [
    "Như vậy, dữ liệu không có dòng nào bị lặp"
   ]
  },
  {
   "cell_type": "markdown",
   "metadata": {},
   "source": [
    "## 4. Tỉ lệ giá trị thiếu của mỗi cột"
   ]
  },
  {
   "cell_type": "markdown",
   "metadata": {},
   "source": [
    "Thay thế các giá trị không hợp lệ trong cột `Easy Apply` thành giá trị boolean `False`"
   ]
  },
  {
   "cell_type": "code",
   "execution_count": 5,
   "metadata": {},
   "outputs": [],
   "source": [
    "df['Easy Apply'] = df['Easy Apply'].fillna(False).astype(bool)"
   ]
  },
  {
   "cell_type": "markdown",
   "metadata": {},
   "source": [
    "Ta thấy trong `df` có nhiều giá trị không hợp lệ (giá trị bằng `-1`). Do đó ta thay thế các giá trị `-1` đó thành NaN"
   ]
  },
  {
   "cell_type": "code",
   "execution_count": 6,
   "metadata": {},
   "outputs": [],
   "source": [
    "df.replace(['-1'], [np.nan], inplace=True)\n",
    "df.replace(['-1.0'], [np.nan], inplace=True)\n",
    "df.replace([-1], [np.nan], inplace=True)"
   ]
  },
  {
   "cell_type": "markdown",
   "metadata": {},
   "source": [
    "Ta cần xem xét đến các giá trị thiếu trong dữ liệu. Đầu tiên, ta tính tỉ lệ giá trị thiếu của từng cột bằng cách sử dụng phương thức `isnull()` trên dataframe `df` và tính tổng số giá trị thiếu của từng cột bằng phương thức `sum()`. Cuối cùng ta chia số dòng và lưu kết quả vào `missing_ratio`."
   ]
  },
  {
   "cell_type": "code",
   "execution_count": 7,
   "metadata": {},
   "outputs": [
    {
     "data": {
      "text/plain": [
       "Unnamed: 0           0.000000\n",
       "index                0.000000\n",
       "Job Title            0.000000\n",
       "Salary Estimate      0.000000\n",
       "Job Description      0.000000\n",
       "Rating               0.104630\n",
       "Company Name         0.000000\n",
       "Location             0.000000\n",
       "Headquarters         0.061397\n",
       "Size                 0.058583\n",
       "Founded              0.249936\n",
       "Type of ownership    0.058583\n",
       "Industry             0.139678\n",
       "Sector               0.139678\n",
       "Revenue              0.058583\n",
       "Competitors          0.706063\n",
       "Easy Apply           0.000000\n",
       "dtype: float64"
      ]
     },
     "execution_count": 7,
     "metadata": {},
     "output_type": "execute_result"
    }
   ],
   "source": [
    "missing_ratio = df.isnull().sum()\n",
    "missing_ratio = missing_ratio / num_rows\n",
    "missing_ratio"
   ]
  },
  {
   "cell_type": "markdown",
   "metadata": {},
   "source": [
    "Ta cũng cần tính các giá trị thống kê mô tả của các cột numeric bằng phương thức `describe()` trên dataframe `df`."
   ]
  },
  {
   "cell_type": "code",
   "execution_count": 8,
   "metadata": {},
   "outputs": [
    {
     "data": {
      "text/html": [
       "<div>\n",
       "<style scoped>\n",
       "    .dataframe tbody tr th:only-of-type {\n",
       "        vertical-align: middle;\n",
       "    }\n",
       "\n",
       "    .dataframe tbody tr th {\n",
       "        vertical-align: top;\n",
       "    }\n",
       "\n",
       "    .dataframe thead th {\n",
       "        text-align: right;\n",
       "    }\n",
       "</style>\n",
       "<table border=\"1\" class=\"dataframe\">\n",
       "  <thead>\n",
       "    <tr style=\"text-align: right;\">\n",
       "      <th></th>\n",
       "      <th>Unnamed: 0</th>\n",
       "      <th>index</th>\n",
       "      <th>Rating</th>\n",
       "      <th>Founded</th>\n",
       "    </tr>\n",
       "  </thead>\n",
       "  <tbody>\n",
       "    <tr>\n",
       "      <th>count</th>\n",
       "      <td>3909.000000</td>\n",
       "      <td>3909.000000</td>\n",
       "      <td>3500.000000</td>\n",
       "      <td>2932.000000</td>\n",
       "    </tr>\n",
       "    <tr>\n",
       "      <th>mean</th>\n",
       "      <td>1954.000000</td>\n",
       "      <td>2167.446662</td>\n",
       "      <td>3.784143</td>\n",
       "      <td>1972.371419</td>\n",
       "    </tr>\n",
       "    <tr>\n",
       "      <th>std</th>\n",
       "      <td>1128.575429</td>\n",
       "      <td>1247.657849</td>\n",
       "      <td>0.614619</td>\n",
       "      <td>52.719618</td>\n",
       "    </tr>\n",
       "    <tr>\n",
       "      <th>min</th>\n",
       "      <td>0.000000</td>\n",
       "      <td>0.000000</td>\n",
       "      <td>1.000000</td>\n",
       "      <td>1625.000000</td>\n",
       "    </tr>\n",
       "    <tr>\n",
       "      <th>25%</th>\n",
       "      <td>977.000000</td>\n",
       "      <td>1121.000000</td>\n",
       "      <td>3.400000</td>\n",
       "      <td>1961.000000</td>\n",
       "    </tr>\n",
       "    <tr>\n",
       "      <th>50%</th>\n",
       "      <td>1954.000000</td>\n",
       "      <td>2161.000000</td>\n",
       "      <td>3.800000</td>\n",
       "      <td>1995.000000</td>\n",
       "    </tr>\n",
       "    <tr>\n",
       "      <th>75%</th>\n",
       "      <td>2931.000000</td>\n",
       "      <td>3249.000000</td>\n",
       "      <td>4.100000</td>\n",
       "      <td>2006.000000</td>\n",
       "    </tr>\n",
       "    <tr>\n",
       "      <th>max</th>\n",
       "      <td>3908.000000</td>\n",
       "      <td>4379.000000</td>\n",
       "      <td>5.000000</td>\n",
       "      <td>2020.000000</td>\n",
       "    </tr>\n",
       "  </tbody>\n",
       "</table>\n",
       "</div>"
      ],
      "text/plain": [
       "        Unnamed: 0        index       Rating      Founded\n",
       "count  3909.000000  3909.000000  3500.000000  2932.000000\n",
       "mean   1954.000000  2167.446662     3.784143  1972.371419\n",
       "std    1128.575429  1247.657849     0.614619    52.719618\n",
       "min       0.000000     0.000000     1.000000  1625.000000\n",
       "25%     977.000000  1121.000000     3.400000  1961.000000\n",
       "50%    1954.000000  2161.000000     3.800000  1995.000000\n",
       "75%    2931.000000  3249.000000     4.100000  2006.000000\n",
       "max    3908.000000  4379.000000     5.000000  2020.000000"
      ]
     },
     "execution_count": 8,
     "metadata": {},
     "output_type": "execute_result"
    }
   ],
   "source": [
    "df.describe()"
   ]
  },
  {
   "cell_type": "markdown",
   "metadata": {},
   "source": [
    "## 5. Kiểu dữ liệu của mỗi cột? Có cột nào có kiểu dữ liệu chưa phù hợp để xử lý tiếp không?"
   ]
  },
  {
   "cell_type": "markdown",
   "metadata": {},
   "source": [
    "Sử dụng `dtypes` để kiểm tra kiểu dữ liệu mỗi cột"
   ]
  },
  {
   "cell_type": "code",
   "execution_count": 9,
   "metadata": {},
   "outputs": [
    {
     "data": {
      "text/plain": [
       "Unnamed: 0             int64\n",
       "index                  int64\n",
       "Job Title             object\n",
       "Salary Estimate       object\n",
       "Job Description       object\n",
       "Rating               float64\n",
       "Company Name          object\n",
       "Location              object\n",
       "Headquarters          object\n",
       "Size                  object\n",
       "Founded              float64\n",
       "Type of ownership     object\n",
       "Industry              object\n",
       "Sector                object\n",
       "Revenue               object\n",
       "Competitors           object\n",
       "Easy Apply              bool\n",
       "dtype: object"
      ]
     },
     "execution_count": 9,
     "metadata": {},
     "output_type": "execute_result"
    }
   ],
   "source": [
    "col_dtype = df.dtypes\n",
    "col_dtype"
   ]
  },
  {
   "cell_type": "markdown",
   "metadata": {},
   "source": [
    "#### Nhận xét\n",
    "- Về mặt kiểu dữ liệu, các thuộc tính của tập dữ liệu này đã ở định dạng phù hợp, nên không cần phải xử lý."
   ]
  },
  {
   "cell_type": "markdown",
   "metadata": {},
   "source": [
    "## 6. Mỗi cột có ý nghĩa gì?"
   ]
  },
  {
   "cell_type": "markdown",
   "metadata": {},
   "source": [
    "Đầu tiên, ta có thể thấy cột 'Unnamed: 0' có giá trị trùng với index. Do đó, để làm gọn dataframe để dễ quản lý, ta cần bỏ cột này"
   ]
  },
  {
   "cell_type": "code",
   "execution_count": 10,
   "metadata": {},
   "outputs": [
    {
     "data": {
      "text/html": [
       "<div>\n",
       "<style scoped>\n",
       "    .dataframe tbody tr th:only-of-type {\n",
       "        vertical-align: middle;\n",
       "    }\n",
       "\n",
       "    .dataframe tbody tr th {\n",
       "        vertical-align: top;\n",
       "    }\n",
       "\n",
       "    .dataframe thead th {\n",
       "        text-align: right;\n",
       "    }\n",
       "</style>\n",
       "<table border=\"1\" class=\"dataframe\">\n",
       "  <thead>\n",
       "    <tr style=\"text-align: right;\">\n",
       "      <th></th>\n",
       "      <th>index</th>\n",
       "      <th>Job Title</th>\n",
       "      <th>Salary Estimate</th>\n",
       "      <th>Job Description</th>\n",
       "      <th>Rating</th>\n",
       "      <th>Company Name</th>\n",
       "      <th>Location</th>\n",
       "      <th>Headquarters</th>\n",
       "      <th>Size</th>\n",
       "      <th>Founded</th>\n",
       "      <th>Type of ownership</th>\n",
       "      <th>Industry</th>\n",
       "      <th>Sector</th>\n",
       "      <th>Revenue</th>\n",
       "      <th>Competitors</th>\n",
       "      <th>Easy Apply</th>\n",
       "    </tr>\n",
       "  </thead>\n",
       "  <tbody>\n",
       "    <tr>\n",
       "      <th>0</th>\n",
       "      <td>0</td>\n",
       "      <td>Senior Data Scientist</td>\n",
       "      <td>$111K-$181K (Glassdoor est.)</td>\n",
       "      <td>ABOUT HOPPER\\r\\n\\r\\nAt Hopper, we’re on a miss...</td>\n",
       "      <td>3.5</td>\n",
       "      <td>Hopper\\r\\n3.5</td>\n",
       "      <td>New York, NY</td>\n",
       "      <td>Montreal, Canada</td>\n",
       "      <td>501 to 1000 employees</td>\n",
       "      <td>2007.0</td>\n",
       "      <td>Company - Private</td>\n",
       "      <td>Travel Agencies</td>\n",
       "      <td>Travel &amp; Tourism</td>\n",
       "      <td>Unknown / Non-Applicable</td>\n",
       "      <td>NaN</td>\n",
       "      <td>True</td>\n",
       "    </tr>\n",
       "    <tr>\n",
       "      <th>1</th>\n",
       "      <td>1</td>\n",
       "      <td>Data Scientist, Product Analytics</td>\n",
       "      <td>$111K-$181K (Glassdoor est.)</td>\n",
       "      <td>At Noom, we use scientifically proven methods ...</td>\n",
       "      <td>4.5</td>\n",
       "      <td>Noom US\\r\\n4.5</td>\n",
       "      <td>New York, NY</td>\n",
       "      <td>New York, NY</td>\n",
       "      <td>1001 to 5000 employees</td>\n",
       "      <td>2008.0</td>\n",
       "      <td>Company - Private</td>\n",
       "      <td>Health, Beauty, &amp; Fitness</td>\n",
       "      <td>Consumer Services</td>\n",
       "      <td>Unknown / Non-Applicable</td>\n",
       "      <td>NaN</td>\n",
       "      <td>True</td>\n",
       "    </tr>\n",
       "    <tr>\n",
       "      <th>2</th>\n",
       "      <td>2</td>\n",
       "      <td>Data Science Manager</td>\n",
       "      <td>$111K-$181K (Glassdoor est.)</td>\n",
       "      <td>Decode_M\\r\\n\\r\\nhttps://www.decode-m.com/\\r\\n\\...</td>\n",
       "      <td>NaN</td>\n",
       "      <td>Decode_M</td>\n",
       "      <td>New York, NY</td>\n",
       "      <td>New York, NY</td>\n",
       "      <td>1 to 50 employees</td>\n",
       "      <td>NaN</td>\n",
       "      <td>Unknown</td>\n",
       "      <td>NaN</td>\n",
       "      <td>NaN</td>\n",
       "      <td>Unknown / Non-Applicable</td>\n",
       "      <td>NaN</td>\n",
       "      <td>True</td>\n",
       "    </tr>\n",
       "    <tr>\n",
       "      <th>3</th>\n",
       "      <td>3</td>\n",
       "      <td>Data Analyst</td>\n",
       "      <td>$111K-$181K (Glassdoor est.)</td>\n",
       "      <td>Sapphire Digital seeks a dynamic and driven mi...</td>\n",
       "      <td>3.4</td>\n",
       "      <td>Sapphire Digital\\r\\n3.4</td>\n",
       "      <td>Lyndhurst, NJ</td>\n",
       "      <td>Lyndhurst, NJ</td>\n",
       "      <td>201 to 500 employees</td>\n",
       "      <td>2019.0</td>\n",
       "      <td>Company - Private</td>\n",
       "      <td>Internet</td>\n",
       "      <td>Information Technology</td>\n",
       "      <td>Unknown / Non-Applicable</td>\n",
       "      <td>Zocdoc, Healthgrades</td>\n",
       "      <td>True</td>\n",
       "    </tr>\n",
       "    <tr>\n",
       "      <th>4</th>\n",
       "      <td>4</td>\n",
       "      <td>Director, Data Science</td>\n",
       "      <td>$111K-$181K (Glassdoor est.)</td>\n",
       "      <td>Director, Data Science - (200537)\\r\\nDescripti...</td>\n",
       "      <td>3.4</td>\n",
       "      <td>United Entertainment Group\\r\\n3.4</td>\n",
       "      <td>New York, NY</td>\n",
       "      <td>New York, NY</td>\n",
       "      <td>51 to 200 employees</td>\n",
       "      <td>2007.0</td>\n",
       "      <td>Company - Private</td>\n",
       "      <td>Advertising &amp; Marketing</td>\n",
       "      <td>Business Services</td>\n",
       "      <td>Unknown / Non-Applicable</td>\n",
       "      <td>BBDO, Grey Group, Droga5</td>\n",
       "      <td>True</td>\n",
       "    </tr>\n",
       "  </tbody>\n",
       "</table>\n",
       "</div>"
      ],
      "text/plain": [
       "   index                          Job Title               Salary Estimate  \\\n",
       "0      0              Senior Data Scientist  $111K-$181K (Glassdoor est.)   \n",
       "1      1  Data Scientist, Product Analytics  $111K-$181K (Glassdoor est.)   \n",
       "2      2               Data Science Manager  $111K-$181K (Glassdoor est.)   \n",
       "3      3                       Data Analyst  $111K-$181K (Glassdoor est.)   \n",
       "4      4             Director, Data Science  $111K-$181K (Glassdoor est.)   \n",
       "\n",
       "                                     Job Description  Rating  \\\n",
       "0  ABOUT HOPPER\\r\\n\\r\\nAt Hopper, we’re on a miss...     3.5   \n",
       "1  At Noom, we use scientifically proven methods ...     4.5   \n",
       "2  Decode_M\\r\\n\\r\\nhttps://www.decode-m.com/\\r\\n\\...     NaN   \n",
       "3  Sapphire Digital seeks a dynamic and driven mi...     3.4   \n",
       "4  Director, Data Science - (200537)\\r\\nDescripti...     3.4   \n",
       "\n",
       "                        Company Name       Location      Headquarters  \\\n",
       "0                      Hopper\\r\\n3.5   New York, NY  Montreal, Canada   \n",
       "1                     Noom US\\r\\n4.5   New York, NY      New York, NY   \n",
       "2                           Decode_M   New York, NY      New York, NY   \n",
       "3            Sapphire Digital\\r\\n3.4  Lyndhurst, NJ     Lyndhurst, NJ   \n",
       "4  United Entertainment Group\\r\\n3.4   New York, NY      New York, NY   \n",
       "\n",
       "                     Size  Founded  Type of ownership  \\\n",
       "0   501 to 1000 employees   2007.0  Company - Private   \n",
       "1  1001 to 5000 employees   2008.0  Company - Private   \n",
       "2       1 to 50 employees      NaN            Unknown   \n",
       "3    201 to 500 employees   2019.0  Company - Private   \n",
       "4     51 to 200 employees   2007.0  Company - Private   \n",
       "\n",
       "                    Industry                  Sector  \\\n",
       "0            Travel Agencies        Travel & Tourism   \n",
       "1  Health, Beauty, & Fitness       Consumer Services   \n",
       "2                        NaN                     NaN   \n",
       "3                   Internet  Information Technology   \n",
       "4    Advertising & Marketing       Business Services   \n",
       "\n",
       "                    Revenue               Competitors  Easy Apply  \n",
       "0  Unknown / Non-Applicable                       NaN        True  \n",
       "1  Unknown / Non-Applicable                       NaN        True  \n",
       "2  Unknown / Non-Applicable                       NaN        True  \n",
       "3  Unknown / Non-Applicable      Zocdoc, Healthgrades        True  \n",
       "4  Unknown / Non-Applicable  BBDO, Grey Group, Droga5        True  "
      ]
     },
     "execution_count": 10,
     "metadata": {},
     "output_type": "execute_result"
    }
   ],
   "source": [
    "df = df.drop('Unnamed: 0',axis=1)\n",
    "df.head()"
   ]
  },
  {
   "cell_type": "markdown",
   "metadata": {},
   "source": [
    "## 7. Với mỗi cột có kiểu dữ liệu số, các giá trị được phân bố như thế nào?"
   ]
  },
  {
   "cell_type": "markdown",
   "metadata": {},
   "source": [
    "Với các cột có kiểu dữ liệu số, ta sẽ tính:\n",
    "- Tỉ lệ % (từ 0 đến 100) các giá trị thiếu \n",
    "- Giá trị min\n",
    "- Giá trị lower quartile (phân vị 25)\n",
    "- Giá trị median (phân vị 50)\n",
    "- Giá trị upper quartile (phân vị 75)\n",
    "- Giá trị max\n",
    "\n",
    "Ta sẽ lưu kết quả vào DataFrame `num_col_info_df`, trong đó: \n",
    "- Tên của các cột là tên của các cột số trong `df`\n",
    "- Tên của các dòng là: \"missing_ratio\", \"min\", \"lower_quartile\", \"median\", \"upper_quartile\", \"max\"  "
   ]
  },
  {
   "cell_type": "code",
   "execution_count": 11,
   "metadata": {},
   "outputs": [],
   "source": [
    "data = {\n",
    "    \"row_name\" : [\"missing_ratio\", \"min\", \"lower_quartile\", \"median\", \"upper_quartile\", \"max\"]\n",
    "}\n",
    "col_name = []\n",
    "for i in df.columns:\n",
    "    if (df[i].dtypes == 'float64') or (df[i].dtypes == 'int64') or (df[i].dtypes == 'int32'):\n",
    "        col_name.append(i)\n",
    "\n",
    "for i in col_name:\n",
    "    _data = []\n",
    "    missing_data = df[i].isna().sum()\n",
    "    _data.append((missing_data / len(df[i]) * 100).round(1))\n",
    "    _data.append(df[i].min())\n",
    "    percentile = df[i].quantile([0.25,0.5,0.75])\n",
    "    _data.append(percentile[0.25])\n",
    "    _data.append(percentile[0.5])\n",
    "    _data.append(percentile[0.75])\n",
    "    _data.append(df[i].max())\n",
    "    data[i] = _data\n",
    "num_col_info_df = pd.DataFrame(data).set_index('row_name')"
   ]
  },
  {
   "cell_type": "code",
   "execution_count": 12,
   "metadata": {},
   "outputs": [
    {
     "data": {
      "text/html": [
       "<div>\n",
       "<style scoped>\n",
       "    .dataframe tbody tr th:only-of-type {\n",
       "        vertical-align: middle;\n",
       "    }\n",
       "\n",
       "    .dataframe tbody tr th {\n",
       "        vertical-align: top;\n",
       "    }\n",
       "\n",
       "    .dataframe thead th {\n",
       "        text-align: right;\n",
       "    }\n",
       "</style>\n",
       "<table border=\"1\" class=\"dataframe\">\n",
       "  <thead>\n",
       "    <tr style=\"text-align: right;\">\n",
       "      <th></th>\n",
       "      <th>index</th>\n",
       "      <th>Rating</th>\n",
       "      <th>Founded</th>\n",
       "    </tr>\n",
       "    <tr>\n",
       "      <th>row_name</th>\n",
       "      <th></th>\n",
       "      <th></th>\n",
       "      <th></th>\n",
       "    </tr>\n",
       "  </thead>\n",
       "  <tbody>\n",
       "    <tr>\n",
       "      <th>missing_ratio</th>\n",
       "      <td>0.0</td>\n",
       "      <td>10.5</td>\n",
       "      <td>25.0</td>\n",
       "    </tr>\n",
       "    <tr>\n",
       "      <th>min</th>\n",
       "      <td>0.0</td>\n",
       "      <td>1.0</td>\n",
       "      <td>1625.0</td>\n",
       "    </tr>\n",
       "    <tr>\n",
       "      <th>lower_quartile</th>\n",
       "      <td>1121.0</td>\n",
       "      <td>3.4</td>\n",
       "      <td>1961.0</td>\n",
       "    </tr>\n",
       "    <tr>\n",
       "      <th>median</th>\n",
       "      <td>2161.0</td>\n",
       "      <td>3.8</td>\n",
       "      <td>1995.0</td>\n",
       "    </tr>\n",
       "    <tr>\n",
       "      <th>upper_quartile</th>\n",
       "      <td>3249.0</td>\n",
       "      <td>4.1</td>\n",
       "      <td>2006.0</td>\n",
       "    </tr>\n",
       "    <tr>\n",
       "      <th>max</th>\n",
       "      <td>4379.0</td>\n",
       "      <td>5.0</td>\n",
       "      <td>2020.0</td>\n",
       "    </tr>\n",
       "  </tbody>\n",
       "</table>\n",
       "</div>"
      ],
      "text/plain": [
       "                 index  Rating  Founded\n",
       "row_name                               \n",
       "missing_ratio      0.0    10.5     25.0\n",
       "min                0.0     1.0   1625.0\n",
       "lower_quartile  1121.0     3.4   1961.0\n",
       "median          2161.0     3.8   1995.0\n",
       "upper_quartile  3249.0     4.1   2006.0\n",
       "max             4379.0     5.0   2020.0"
      ]
     },
     "execution_count": 12,
     "metadata": {},
     "output_type": "execute_result"
    }
   ],
   "source": [
    "num_col_info_df"
   ]
  },
  {
   "cell_type": "markdown",
   "metadata": {},
   "source": [
    "**Có giá trị không hợp lệ trong mỗi cột không? (không xét giá trị thiếu)**\n",
    "\n",
    "Không có giá trị không hợp lệ trong mỗi cột"
   ]
  },
  {
   "cell_type": "markdown",
   "metadata": {},
   "source": [
    "## 8. Với mỗi cột có kiểu dữ liệu không phải dạng số, các giá trị được phân bố như thế nào?"
   ]
  },
  {
   "cell_type": "markdown",
   "metadata": {},
   "source": [
    "Thực hiện thống kê và lưu vào một dataframe với các dòng là đại diện cho các giá trị như sau:\n",
    "- Tỉ lệ % (từ 0 đến 100) các giá trị thiếu (missing_ratio).\n",
    "- Số lượng các giá trị khác nhau (không xét giá trị thiếu) (num_values).\n",
    "- Tỉ lệ % (từ 0 đến 100) của mỗi giá trị được sort theo tỉ lệ % giảm dần (không xét giá trị thiếu, tỉ lệ là tỉ lệ so với số lượng các giá trị không thiếu): dùng dictionary để lưu, key là giá trị, value là tỉ lệ % (value_ratios)."
   ]
  },
  {
   "cell_type": "code",
   "execution_count": 13,
   "metadata": {},
   "outputs": [
    {
     "data": {
      "text/html": [
       "<div>\n",
       "<style scoped>\n",
       "    .dataframe tbody tr th:only-of-type {\n",
       "        vertical-align: middle;\n",
       "    }\n",
       "\n",
       "    .dataframe tbody tr th {\n",
       "        vertical-align: top;\n",
       "    }\n",
       "\n",
       "    .dataframe thead th {\n",
       "        text-align: right;\n",
       "    }\n",
       "</style>\n",
       "<table border=\"1\" class=\"dataframe\">\n",
       "  <thead>\n",
       "    <tr style=\"text-align: right;\">\n",
       "      <th></th>\n",
       "      <th>Job Title</th>\n",
       "      <th>Salary Estimate</th>\n",
       "      <th>Job Description</th>\n",
       "      <th>Company Name</th>\n",
       "      <th>Location</th>\n",
       "      <th>Headquarters</th>\n",
       "      <th>Size</th>\n",
       "      <th>Type of ownership</th>\n",
       "      <th>Industry</th>\n",
       "      <th>Sector</th>\n",
       "      <th>Revenue</th>\n",
       "      <th>Competitors</th>\n",
       "    </tr>\n",
       "    <tr>\n",
       "      <th>row_name</th>\n",
       "      <th></th>\n",
       "      <th></th>\n",
       "      <th></th>\n",
       "      <th></th>\n",
       "      <th></th>\n",
       "      <th></th>\n",
       "      <th></th>\n",
       "      <th></th>\n",
       "      <th></th>\n",
       "      <th></th>\n",
       "      <th></th>\n",
       "      <th></th>\n",
       "    </tr>\n",
       "  </thead>\n",
       "  <tbody>\n",
       "    <tr>\n",
       "      <th>missing_ratio</th>\n",
       "      <td>0.0</td>\n",
       "      <td>0.0</td>\n",
       "      <td>0.0</td>\n",
       "      <td>0.0</td>\n",
       "      <td>0.0</td>\n",
       "      <td>6.139678</td>\n",
       "      <td>5.858276</td>\n",
       "      <td>5.858276</td>\n",
       "      <td>13.967767</td>\n",
       "      <td>13.967767</td>\n",
       "      <td>5.858276</td>\n",
       "      <td>70.606293</td>\n",
       "    </tr>\n",
       "    <tr>\n",
       "      <th>num_values</th>\n",
       "      <td>2079</td>\n",
       "      <td>148</td>\n",
       "      <td>3685</td>\n",
       "      <td>2075</td>\n",
       "      <td>191</td>\n",
       "      <td>542</td>\n",
       "      <td>8</td>\n",
       "      <td>14</td>\n",
       "      <td>95</td>\n",
       "      <td>25</td>\n",
       "      <td>13</td>\n",
       "      <td>421</td>\n",
       "    </tr>\n",
       "    <tr>\n",
       "      <th>value_ratios</th>\n",
       "      <td>{'Data Scientist': 7.0, 'Data Engineer': 6.7, ...</td>\n",
       "      <td>{'$93K-$151K (Glassdoor est.)': 1.6, '$113K-$1...</td>\n",
       "      <td>{'The U.S. Department of the Treasury has a di...</td>\n",
       "      <td>{'Apple\r\n",
       "4.1': 1.5, 'IBM\r\n",
       "3.7': 1.5, 'Amazon\r\n",
       "...</td>\n",
       "      <td>{'Austin, TX': 8.8, 'Chicago, IL': 8.4, 'San D...</td>\n",
       "      <td>{'New York, NY': 8.1, 'San Diego, CA': 4.9, 'C...</td>\n",
       "      <td>{'10000+ employees': 27.0, '51 to 200 employee...</td>\n",
       "      <td>{'Company - Private': 52.5, 'Company - Public'...</td>\n",
       "      <td>{'IT Services': 14.0, 'Staffing &amp; Outsourcing'...</td>\n",
       "      <td>{'Information Technology': 33.4, 'Business Ser...</td>\n",
       "      <td>{'Unknown / Non-Applicable': 31.6, '$10+ billi...</td>\n",
       "      <td>{'Amazon, Accenture, Microsoft': 5.3, 'Google,...</td>\n",
       "    </tr>\n",
       "  </tbody>\n",
       "</table>\n",
       "</div>"
      ],
      "text/plain": [
       "                                                       Job Title  \\\n",
       "row_name                                                           \n",
       "missing_ratio                                                0.0   \n",
       "num_values                                                  2079   \n",
       "value_ratios   {'Data Scientist': 7.0, 'Data Engineer': 6.7, ...   \n",
       "\n",
       "                                                 Salary Estimate  \\\n",
       "row_name                                                           \n",
       "missing_ratio                                                0.0   \n",
       "num_values                                                   148   \n",
       "value_ratios   {'$93K-$151K (Glassdoor est.)': 1.6, '$113K-$1...   \n",
       "\n",
       "                                                 Job Description  \\\n",
       "row_name                                                           \n",
       "missing_ratio                                                0.0   \n",
       "num_values                                                  3685   \n",
       "value_ratios   {'The U.S. Department of the Treasury has a di...   \n",
       "\n",
       "                                                    Company Name  \\\n",
       "row_name                                                           \n",
       "missing_ratio                                                0.0   \n",
       "num_values                                                  2075   \n",
       "value_ratios   {'Apple\n",
       "4.1': 1.5, 'IBM\n",
       "3.7': 1.5, 'Amazon\n",
       "...   \n",
       "\n",
       "                                                        Location  \\\n",
       "row_name                                                           \n",
       "missing_ratio                                                0.0   \n",
       "num_values                                                   191   \n",
       "value_ratios   {'Austin, TX': 8.8, 'Chicago, IL': 8.4, 'San D...   \n",
       "\n",
       "                                                    Headquarters  \\\n",
       "row_name                                                           \n",
       "missing_ratio                                           6.139678   \n",
       "num_values                                                   542   \n",
       "value_ratios   {'New York, NY': 8.1, 'San Diego, CA': 4.9, 'C...   \n",
       "\n",
       "                                                            Size  \\\n",
       "row_name                                                           \n",
       "missing_ratio                                           5.858276   \n",
       "num_values                                                     8   \n",
       "value_ratios   {'10000+ employees': 27.0, '51 to 200 employee...   \n",
       "\n",
       "                                               Type of ownership  \\\n",
       "row_name                                                           \n",
       "missing_ratio                                           5.858276   \n",
       "num_values                                                    14   \n",
       "value_ratios   {'Company - Private': 52.5, 'Company - Public'...   \n",
       "\n",
       "                                                        Industry  \\\n",
       "row_name                                                           \n",
       "missing_ratio                                          13.967767   \n",
       "num_values                                                    95   \n",
       "value_ratios   {'IT Services': 14.0, 'Staffing & Outsourcing'...   \n",
       "\n",
       "                                                          Sector  \\\n",
       "row_name                                                           \n",
       "missing_ratio                                          13.967767   \n",
       "num_values                                                    25   \n",
       "value_ratios   {'Information Technology': 33.4, 'Business Ser...   \n",
       "\n",
       "                                                         Revenue  \\\n",
       "row_name                                                           \n",
       "missing_ratio                                           5.858276   \n",
       "num_values                                                    13   \n",
       "value_ratios   {'Unknown / Non-Applicable': 31.6, '$10+ billi...   \n",
       "\n",
       "                                                     Competitors  \n",
       "row_name                                                          \n",
       "missing_ratio                                          70.606293  \n",
       "num_values                                                   421  \n",
       "value_ratios   {'Amazon, Accenture, Microsoft': 5.3, 'Google,...  "
      ]
     },
     "execution_count": 13,
     "metadata": {},
     "output_type": "execute_result"
    }
   ],
   "source": [
    "categorical_df=df.select_dtypes(exclude=['int64','float64','datetime64','int32','bool'])\n",
    "data = {\n",
    "    \"row_name\" : [\"missing_ratio\", \"num_values\", \"value_ratios\"]\n",
    "}\n",
    "col_names = list(categorical_df.columns)\n",
    "for i in col_names:\n",
    "    _data = []\n",
    "\n",
    "    #Tính missing ratio\n",
    "    missing_ratio = (categorical_df[i].isna().sum())/len(df[i]) * 100\n",
    "    _data.append(missing_ratio)\n",
    "\n",
    "    #Tính số lượng giá trị khác nhau\n",
    "    num_values = categorical_df[i].dropna().nunique()\n",
    "    _data.append(num_values)\n",
    "\n",
    "    #Tính tỉ lệ của các giá trị\n",
    "    dict_value_ratios ={}\n",
    "    values = categorical_df[i].value_counts(normalize=True,sort=True)\n",
    "    name_values = list(values.index)\n",
    "    for k in range(len(name_values)):\n",
    "        dict_value_ratios[name_values[k]] = round(values[k]*100,1)\n",
    "    _data.append(dict_value_ratios)\n",
    "    \n",
    "    data[i] = _data\n",
    "\n",
    "cat_col_info_df = pd.DataFrame(data).set_index('row_name')\n",
    "cat_col_info_df"
   ]
  },
  {
   "cell_type": "markdown",
   "id": "f0eb119c",
   "metadata": {},
   "source": [
    "# C&D. Đặt và phân tích trả lời câu hỏi"
   ]
  },
  {
   "cell_type": "markdown",
   "id": "c2e95ff6",
   "metadata": {},
   "source": [
    "## 1. Những công ty tốt nhất để lựa chọn làm việc (Dựa vào Salary và Rating)"
   ]
  },
  {
   "cell_type": "markdown",
   "metadata": {},
   "source": [
    "### Lợi ích khi trả lời câu hỏi\n",
    "\n",
    "Mỗi vị trí công việc có nhiều công ty để lựa chọn. Việc lọc như thế này có thể đưa ra sự lựa chọn công ty tốt nhất cho mỗi vị trí công việc."
   ]
  },
  {
   "cell_type": "markdown",
   "metadata": {},
   "source": [
    "### Tiền xử lý"
   ]
  },
  {
   "cell_type": "markdown",
   "metadata": {},
   "source": [
    "#### Ở cột `Company Name`, ta xóa phần dữ liệu thừa ở phía sau tên công ty"
   ]
  },
  {
   "cell_type": "code",
   "execution_count": 14,
   "metadata": {},
   "outputs": [],
   "source": [
    "df['Company Name'] = df['Company Name'].str.replace('\\r\\n.*', ' ')"
   ]
  },
  {
   "cell_type": "markdown",
   "metadata": {},
   "source": [
    "#### Ta thấy ở cột `Salary Estimate` là khoảng tiền lương, ta cần đưa về dạng số để dễ xử lý\n",
    "Ta cần tách các giá trị ở cột `Salary Estimate` thành 2 cột là `Minumum Salary` và `Maximum Salary`"
   ]
  },
  {
   "cell_type": "code",
   "execution_count": 15,
   "metadata": {},
   "outputs": [],
   "source": [
    "df_salary = df['Salary Estimate'].str.split(\"-\",expand=True,)"
   ]
  },
  {
   "cell_type": "markdown",
   "metadata": {},
   "source": [
    "Xóa các ký tự `K`, `(Glassdoor est.)`, `(`, `)`, `Employer est.`, `Per Hour`"
   ]
  },
  {
   "cell_type": "code",
   "execution_count": 16,
   "metadata": {},
   "outputs": [],
   "source": [
    "minimum_salary = df_salary[0]\n",
    "minimum_salary = minimum_salary.str.replace('K',' ')\n",
    "\n",
    "maximum_salary = df_salary[1].str.replace('(Glassdoor est.)', ' ')\n",
    "maximum_salary = maximum_salary.str.replace('(', ' ')\n",
    "maximum_salary = maximum_salary.str.replace(')', ' ')\n",
    "maximum_salary = maximum_salary.str.replace('K', ' ')\n",
    "maximum_salary = maximum_salary.str.replace('Employer est.', ' ')\n",
    "maximum_salary = maximum_salary.str.replace('Per Hour', ' ')"
   ]
  },
  {
   "cell_type": "markdown",
   "metadata": {},
   "source": [
    "- Thay đổi kiểu dữ liệu cho 2 biến minimum_salary và maximum_salary thành kiểu số.\n",
    "- Tạo thành 2 cột là `Minimum Salary` và `Maximum Salary` từ 2 biến minimum_salary và maximum_salary\n",
    "- Xóa cột Salary Estimate"
   ]
  },
  {
   "cell_type": "code",
   "execution_count": 17,
   "metadata": {},
   "outputs": [],
   "source": [
    "maximum_salary = maximum_salary.str.replace('$', ' ').fillna(0).astype(int)\n",
    "minimum_salary = minimum_salary.str.replace('$', ' ').fillna(0).astype(int)\n",
    "\n",
    "df['Minimum Salary'] = minimum_salary\n",
    "df['Maximum Salary'] = maximum_salary\n",
    "df.drop('Salary Estimate',axis = 1,inplace = True)"
   ]
  },
  {
   "cell_type": "markdown",
   "metadata": {},
   "source": [
    "Tạo ra cột `Avg Salary` là lương trung bình "
   ]
  },
  {
   "cell_type": "code",
   "execution_count": 18,
   "metadata": {},
   "outputs": [],
   "source": [
    "df['Avg Salary']= (df['Minimum Salary']+df['Maximum Salary'])/2"
   ]
  },
  {
   "cell_type": "markdown",
   "id": "1c378a6c",
   "metadata": {},
   "source": [
    "#### Lọc ra từng công việc nên chọn công ty nào là tốt nhất \n",
    "Tiêu chí đánh giá\n",
    "* Rating cao nhất \n",
    "* Mức lương trung bình (Avg Salary) cao nhất"
   ]
  },
  {
   "cell_type": "code",
   "execution_count": 19,
   "id": "00b02c7b",
   "metadata": {},
   "outputs": [],
   "source": [
    "job = df[['Job Title','Rating','Avg Salary','Company Name']].groupby(['Job Title']).max()"
   ]
  },
  {
   "cell_type": "markdown",
   "id": "495214db",
   "metadata": {},
   "source": [
    "Loại bỏ cột Rating và Avg Salary ra khỏi dataframe và thêm cột Job Title vào dataframe"
   ]
  },
  {
   "cell_type": "markdown",
   "metadata": {},
   "source": []
  },
  {
   "cell_type": "code",
   "execution_count": 20,
   "id": "38f0d928",
   "metadata": {},
   "outputs": [
    {
     "data": {
      "text/html": [
       "<div>\n",
       "<style scoped>\n",
       "    .dataframe tbody tr th:only-of-type {\n",
       "        vertical-align: middle;\n",
       "    }\n",
       "\n",
       "    .dataframe tbody tr th {\n",
       "        vertical-align: top;\n",
       "    }\n",
       "\n",
       "    .dataframe thead th {\n",
       "        text-align: right;\n",
       "    }\n",
       "</style>\n",
       "<table border=\"1\" class=\"dataframe\">\n",
       "  <thead>\n",
       "    <tr style=\"text-align: right;\">\n",
       "      <th></th>\n",
       "      <th>Job Title</th>\n",
       "      <th>Company Name</th>\n",
       "    </tr>\n",
       "  </thead>\n",
       "  <tbody>\n",
       "    <tr>\n",
       "      <th>0</th>\n",
       "      <td>#104733 HPC Systems and Data Engineer</td>\n",
       "      <td>UC San Diego</td>\n",
       "    </tr>\n",
       "    <tr>\n",
       "      <th>1</th>\n",
       "      <td>#105054 (CLS) Clinical Lab Scientist - Microbi...</td>\n",
       "      <td>UC San Diego</td>\n",
       "    </tr>\n",
       "    <tr>\n",
       "      <th>2</th>\n",
       "      <td>(CLS) Clinical Lab Scientist - Microbiology</td>\n",
       "      <td>UC San Diego</td>\n",
       "    </tr>\n",
       "    <tr>\n",
       "      <th>3</th>\n",
       "      <td>(Data Analyst) BA/BSA</td>\n",
       "      <td>InterSources Inc.</td>\n",
       "    </tr>\n",
       "    <tr>\n",
       "      <th>4</th>\n",
       "      <td>(Data Risk Analyst: Data Modeler)</td>\n",
       "      <td>System Soft Technologies</td>\n",
       "    </tr>\n",
       "    <tr>\n",
       "      <th>...</th>\n",
       "      <td>...</td>\n",
       "      <td>...</td>\n",
       "    </tr>\n",
       "    <tr>\n",
       "      <th>2074</th>\n",
       "      <td>X-Ray Tomography Scientist</td>\n",
       "      <td>The Aerospace Corporation</td>\n",
       "    </tr>\n",
       "    <tr>\n",
       "      <th>2075</th>\n",
       "      <td>XYZ Data Analyst</td>\n",
       "      <td>Rosen</td>\n",
       "    </tr>\n",
       "    <tr>\n",
       "      <th>2076</th>\n",
       "      <td>eCommerce Analytics Manager</td>\n",
       "      <td>Bombas</td>\n",
       "    </tr>\n",
       "    <tr>\n",
       "      <th>2077</th>\n",
       "      <td>eDiscovery Data Analyst</td>\n",
       "      <td>Servient</td>\n",
       "    </tr>\n",
       "    <tr>\n",
       "      <th>2078</th>\n",
       "      <td>machine learning Engineer with AWS</td>\n",
       "      <td>Jconnect Infotech Inc</td>\n",
       "    </tr>\n",
       "  </tbody>\n",
       "</table>\n",
       "<p>2079 rows × 2 columns</p>\n",
       "</div>"
      ],
      "text/plain": [
       "                                              Job Title  \\\n",
       "0                 #104733 HPC Systems and Data Engineer   \n",
       "1     #105054 (CLS) Clinical Lab Scientist - Microbi...   \n",
       "2           (CLS) Clinical Lab Scientist - Microbiology   \n",
       "3                                 (Data Analyst) BA/BSA   \n",
       "4                     (Data Risk Analyst: Data Modeler)   \n",
       "...                                                 ...   \n",
       "2074                         X-Ray Tomography Scientist   \n",
       "2075                                   XYZ Data Analyst   \n",
       "2076                        eCommerce Analytics Manager   \n",
       "2077                            eDiscovery Data Analyst   \n",
       "2078                 machine learning Engineer with AWS   \n",
       "\n",
       "                    Company Name  \n",
       "0                  UC San Diego   \n",
       "1                  UC San Diego   \n",
       "2                  UC San Diego   \n",
       "3             InterSources Inc.   \n",
       "4      System Soft Technologies   \n",
       "...                          ...  \n",
       "2074  The Aerospace Corporation   \n",
       "2075                      Rosen   \n",
       "2076                     Bombas   \n",
       "2077                   Servient   \n",
       "2078      Jconnect Infotech Inc   \n",
       "\n",
       "[2079 rows x 2 columns]"
      ]
     },
     "execution_count": 20,
     "metadata": {},
     "output_type": "execute_result"
    }
   ],
   "source": [
    "x = pd.Series(job['Company Name'].values)\n",
    "df_company_best_for_EachOfJob = pd.concat([pd.Series(job.index),x], ignore_index = True ,axis = 1)\n",
    "df_company_best_for_EachOfJob.columns = ['Job Title','Company Name']\n",
    "df_company_best_for_EachOfJob"
   ]
  },
  {
   "cell_type": "code",
   "execution_count": 21,
   "id": "ab20eac9",
   "metadata": {},
   "outputs": [
    {
     "data": {
      "text/plain": [
       "Apple                               49\n",
       "Southwest Research Institute        22\n",
       "Varsity Tutors                      21\n",
       "Facebook                            21\n",
       "Amazon                              17\n",
       "                                    ..\n",
       "CloudFlare                           1\n",
       "Lawrence Livermore National Lab      1\n",
       "Argonne National Laboratory          1\n",
       "Riskified                            1\n",
       "Jconnect Infotech Inc                1\n",
       "Name: Company Name, Length: 1207, dtype: int64"
      ]
     },
     "execution_count": 21,
     "metadata": {},
     "output_type": "execute_result"
    }
   ],
   "source": [
    "df_company_best_for_EachOfJob['Company Name'].value_counts()"
   ]
  },
  {
   "cell_type": "markdown",
   "metadata": {},
   "source": [
    "#### Vẽ biểu đồ thể hiện top 10 công ty được đánh giá tốt nhất cho công việc  "
   ]
  },
  {
   "cell_type": "code",
   "execution_count": 22,
   "metadata": {},
   "outputs": [],
   "source": [
    "top_company = df_company_best_for_EachOfJob['Company Name'].value_counts().head(10)"
   ]
  },
  {
   "cell_type": "code",
   "execution_count": 23,
   "metadata": {},
   "outputs": [
    {
     "data": {
      "image/png": "[encoded data removed]",
      "text/plain": [
       "<Figure size 1080x504 with 1 Axes>"
      ]
     },
     "metadata": {
      "needs_background": "light"
     },
     "output_type": "display_data"
    }
   ],
   "source": [
    "plt.rcParams['figure.figsize'] = (15,7)\n",
    "color = plt.cm.cividis(np.linspace(0,1,10))\n",
    "top_company.plot.barh(color = color)\n",
    "top_company.plot.barh(color=color)\n",
    "plt.title(\"Top 10 Company best for Data Job\",fontsize=20)\n",
    "plt.ylabel(\"Company Name\",fontsize=15)\n",
    "plt.xlabel(\"Count\",fontsize=15);"
   ]
  },
  {
   "cell_type": "markdown",
   "id": "21707669",
   "metadata": {},
   "source": [
    "### Nhận xét\n",
    "* Từ biểu đồ trên ta có thể tìm được công ty tốt nhất cho mỗi công việc\n",
    "* Sau khi đếm số công ty ta có thể thấy các công ty như Apple, Facebook, Amazon... là điểm đến tốt cho các công việc"
   ]
  },
  {
   "cell_type": "markdown",
   "id": "57b7a3a8",
   "metadata": {},
   "source": [
    "## 2. Lĩnh vực (Sector) có doanh thu (Revenue) cao nhất. Số lượng nhân viên (Size) làm việc trong mỗi từng lĩnh vực có liên quan gì đến nhau ?\n"
   ]
  },
  {
   "cell_type": "markdown",
   "metadata": {},
   "source": [
    "### Lợi ích khi trả lời câu hỏi\n",
    "\n",
    "Doanh thu của từng lĩnh vực là khác nhau. Sau khi gộp lại các lĩnh vực, tính tổng doanh thu và trực quan hóa ta có thể cho ra nhận xét những lĩnh vực nào là có doanh thu cao nhất. Kết hợp với tổng nhân viên của từng lĩnh vực ta có thể đưa ra sự tương quan giữa con người và doanh thu."
   ]
  },
  {
   "cell_type": "markdown",
   "metadata": {},
   "source": [
    "### Tiền xử lý"
   ]
  },
  {
   "cell_type": "markdown",
   "metadata": {},
   "source": [
    "#### Tách dữ liệu cột `Revenue` thành `Minimum Revenue` và `Maximum Revenue`"
   ]
  },
  {
   "cell_type": "markdown",
   "id": "55de9b01",
   "metadata": {},
   "source": [
    "Xóa các kí tự `$`, `USD`, `)`, `(`; chuyển giá trị `*Unknown / Non-Applicable*` thành None và ' ' thành '' \n"
   ]
  },
  {
   "cell_type": "code",
   "execution_count": 24,
   "id": "eb36f586",
   "metadata": {},
   "outputs": [],
   "source": [
    "df['Revenue'] = df['Revenue'].replace('Unknown / Non-Applicable', None)\n",
    "df['Revenue'] = df['Revenue'].str.replace('$', ' ')\n",
    "df['Revenue'] = df['Revenue'].str.replace('(USD)', ' ')\n",
    "df['Revenue'] = df['Revenue'].str.replace('(', ' ')\n",
    "df['Revenue'] = df['Revenue'].str.replace(')', ' ')\n",
    "df['Revenue'] = df['Revenue'].str.replace(' ', '')"
   ]
  },
  {
   "cell_type": "markdown",
   "id": "ad94c993",
   "metadata": {},
   "source": [
    "Chuyển đơn vị *billion* thành *million*, xử lí các khoảng số, xóa kí tự *million*, gán lại giá trị *Unknown / Non-Applicable* thành NaN"
   ]
  },
  {
   "cell_type": "code",
   "execution_count": 25,
   "id": "3d188ca0",
   "metadata": {},
   "outputs": [],
   "source": [
    "df['Revenue'] = df['Revenue'].str.replace('2to5billion', '2billionto5billion')\n",
    "df['Revenue'] = df['Revenue'].str.replace('5to10billion ', '5billionto10billion ')\n",
    "df['Revenue'] = df['Revenue'].replace('million', ' ')\n",
    "df['Revenue'] = df['Revenue'].replace('10+billion', '10billionto11billion')\n",
    "df['Revenue'] = df['Revenue'].str.replace('Lessthan1million', '0millionto1million')\n",
    "df['Revenue'] = df['Revenue'].str.replace('million', ' ')\n",
    "df['Revenue'] = df['Revenue'].str.replace('billion', '000 ')\n",
    "df['Revenue'] = df['Revenue'].replace('Unknown / Non-Applicable', np.nan)"
   ]
  },
  {
   "cell_type": "markdown",
   "id": "bff07ce2",
   "metadata": {},
   "source": [
    "Tách dữ liệu cột `Revenue` thành `Minimum Revenue` và `Maximum Revenue`"
   ]
  },
  {
   "cell_type": "code",
   "execution_count": 26,
   "id": "4966beab",
   "metadata": {},
   "outputs": [],
   "source": [
    "Revenue = df['Revenue'].str.split(\"to\",expand=True)\n",
    "\n",
    "df['Minimum Revenue'] = Revenue[0]\n",
    "df['Maximum Revenue'] = Revenue[1]\n",
    "df['Maximum Revenue'] = pd.to_numeric(df['Maximum Revenue'])\n",
    "df['Minimum Revenue'] = pd.to_numeric(df['Minimum Revenue'])\n",
    "\n",
    "#Xóa cột Revenue cũ \n",
    "df.drop('Revenue',1,inplace=True)"
   ]
  },
  {
   "cell_type": "code",
   "execution_count": 27,
   "id": "d96f020f",
   "metadata": {},
   "outputs": [
    {
     "data": {
      "text/html": [
       "<div>\n",
       "<style scoped>\n",
       "    .dataframe tbody tr th:only-of-type {\n",
       "        vertical-align: middle;\n",
       "    }\n",
       "\n",
       "    .dataframe tbody tr th {\n",
       "        vertical-align: top;\n",
       "    }\n",
       "\n",
       "    .dataframe thead th {\n",
       "        text-align: right;\n",
       "    }\n",
       "</style>\n",
       "<table border=\"1\" class=\"dataframe\">\n",
       "  <thead>\n",
       "    <tr style=\"text-align: right;\">\n",
       "      <th></th>\n",
       "      <th>index</th>\n",
       "      <th>Job Title</th>\n",
       "      <th>Job Description</th>\n",
       "      <th>Rating</th>\n",
       "      <th>Company Name</th>\n",
       "      <th>Location</th>\n",
       "      <th>Headquarters</th>\n",
       "      <th>Size</th>\n",
       "      <th>Founded</th>\n",
       "      <th>Type of ownership</th>\n",
       "      <th>Industry</th>\n",
       "      <th>Sector</th>\n",
       "      <th>Competitors</th>\n",
       "      <th>Easy Apply</th>\n",
       "      <th>Minimum Salary</th>\n",
       "      <th>Maximum Salary</th>\n",
       "      <th>Avg Salary</th>\n",
       "      <th>Minimum Revenue</th>\n",
       "      <th>Maximum Revenue</th>\n",
       "    </tr>\n",
       "  </thead>\n",
       "  <tbody>\n",
       "    <tr>\n",
       "      <th>0</th>\n",
       "      <td>0</td>\n",
       "      <td>Senior Data Scientist</td>\n",
       "      <td>ABOUT HOPPER\\r\\n\\r\\nAt Hopper, we’re on a miss...</td>\n",
       "      <td>3.5</td>\n",
       "      <td>Hopper</td>\n",
       "      <td>New York, NY</td>\n",
       "      <td>Montreal, Canada</td>\n",
       "      <td>501 to 1000 employees</td>\n",
       "      <td>2007.0</td>\n",
       "      <td>Company - Private</td>\n",
       "      <td>Travel Agencies</td>\n",
       "      <td>Travel &amp; Tourism</td>\n",
       "      <td>NaN</td>\n",
       "      <td>True</td>\n",
       "      <td>111</td>\n",
       "      <td>181</td>\n",
       "      <td>146.0</td>\n",
       "      <td>NaN</td>\n",
       "      <td>NaN</td>\n",
       "    </tr>\n",
       "    <tr>\n",
       "      <th>1</th>\n",
       "      <td>1</td>\n",
       "      <td>Data Scientist, Product Analytics</td>\n",
       "      <td>At Noom, we use scientifically proven methods ...</td>\n",
       "      <td>4.5</td>\n",
       "      <td>Noom US</td>\n",
       "      <td>New York, NY</td>\n",
       "      <td>New York, NY</td>\n",
       "      <td>1001 to 5000 employees</td>\n",
       "      <td>2008.0</td>\n",
       "      <td>Company - Private</td>\n",
       "      <td>Health, Beauty, &amp; Fitness</td>\n",
       "      <td>Consumer Services</td>\n",
       "      <td>NaN</td>\n",
       "      <td>True</td>\n",
       "      <td>111</td>\n",
       "      <td>181</td>\n",
       "      <td>146.0</td>\n",
       "      <td>NaN</td>\n",
       "      <td>NaN</td>\n",
       "    </tr>\n",
       "    <tr>\n",
       "      <th>2</th>\n",
       "      <td>2</td>\n",
       "      <td>Data Science Manager</td>\n",
       "      <td>Decode_M\\r\\n\\r\\nhttps://www.decode-m.com/\\r\\n\\...</td>\n",
       "      <td>NaN</td>\n",
       "      <td>Decode_M</td>\n",
       "      <td>New York, NY</td>\n",
       "      <td>New York, NY</td>\n",
       "      <td>1 to 50 employees</td>\n",
       "      <td>NaN</td>\n",
       "      <td>Unknown</td>\n",
       "      <td>NaN</td>\n",
       "      <td>NaN</td>\n",
       "      <td>NaN</td>\n",
       "      <td>True</td>\n",
       "      <td>111</td>\n",
       "      <td>181</td>\n",
       "      <td>146.0</td>\n",
       "      <td>NaN</td>\n",
       "      <td>NaN</td>\n",
       "    </tr>\n",
       "    <tr>\n",
       "      <th>3</th>\n",
       "      <td>3</td>\n",
       "      <td>Data Analyst</td>\n",
       "      <td>Sapphire Digital seeks a dynamic and driven mi...</td>\n",
       "      <td>3.4</td>\n",
       "      <td>Sapphire Digital</td>\n",
       "      <td>Lyndhurst, NJ</td>\n",
       "      <td>Lyndhurst, NJ</td>\n",
       "      <td>201 to 500 employees</td>\n",
       "      <td>2019.0</td>\n",
       "      <td>Company - Private</td>\n",
       "      <td>Internet</td>\n",
       "      <td>Information Technology</td>\n",
       "      <td>Zocdoc, Healthgrades</td>\n",
       "      <td>True</td>\n",
       "      <td>111</td>\n",
       "      <td>181</td>\n",
       "      <td>146.0</td>\n",
       "      <td>NaN</td>\n",
       "      <td>NaN</td>\n",
       "    </tr>\n",
       "    <tr>\n",
       "      <th>4</th>\n",
       "      <td>4</td>\n",
       "      <td>Director, Data Science</td>\n",
       "      <td>Director, Data Science - (200537)\\r\\nDescripti...</td>\n",
       "      <td>3.4</td>\n",
       "      <td>United Entertainment Group</td>\n",
       "      <td>New York, NY</td>\n",
       "      <td>New York, NY</td>\n",
       "      <td>51 to 200 employees</td>\n",
       "      <td>2007.0</td>\n",
       "      <td>Company - Private</td>\n",
       "      <td>Advertising &amp; Marketing</td>\n",
       "      <td>Business Services</td>\n",
       "      <td>BBDO, Grey Group, Droga5</td>\n",
       "      <td>True</td>\n",
       "      <td>111</td>\n",
       "      <td>181</td>\n",
       "      <td>146.0</td>\n",
       "      <td>NaN</td>\n",
       "      <td>NaN</td>\n",
       "    </tr>\n",
       "  </tbody>\n",
       "</table>\n",
       "</div>"
      ],
      "text/plain": [
       "   index                          Job Title  \\\n",
       "0      0              Senior Data Scientist   \n",
       "1      1  Data Scientist, Product Analytics   \n",
       "2      2               Data Science Manager   \n",
       "3      3                       Data Analyst   \n",
       "4      4             Director, Data Science   \n",
       "\n",
       "                                     Job Description  Rating  \\\n",
       "0  ABOUT HOPPER\\r\\n\\r\\nAt Hopper, we’re on a miss...     3.5   \n",
       "1  At Noom, we use scientifically proven methods ...     4.5   \n",
       "2  Decode_M\\r\\n\\r\\nhttps://www.decode-m.com/\\r\\n\\...     NaN   \n",
       "3  Sapphire Digital seeks a dynamic and driven mi...     3.4   \n",
       "4  Director, Data Science - (200537)\\r\\nDescripti...     3.4   \n",
       "\n",
       "                  Company Name       Location      Headquarters  \\\n",
       "0                      Hopper    New York, NY  Montreal, Canada   \n",
       "1                     Noom US    New York, NY      New York, NY   \n",
       "2                     Decode_M   New York, NY      New York, NY   \n",
       "3            Sapphire Digital   Lyndhurst, NJ     Lyndhurst, NJ   \n",
       "4  United Entertainment Group    New York, NY      New York, NY   \n",
       "\n",
       "                     Size  Founded  Type of ownership  \\\n",
       "0   501 to 1000 employees   2007.0  Company - Private   \n",
       "1  1001 to 5000 employees   2008.0  Company - Private   \n",
       "2       1 to 50 employees      NaN            Unknown   \n",
       "3    201 to 500 employees   2019.0  Company - Private   \n",
       "4     51 to 200 employees   2007.0  Company - Private   \n",
       "\n",
       "                    Industry                  Sector  \\\n",
       "0            Travel Agencies        Travel & Tourism   \n",
       "1  Health, Beauty, & Fitness       Consumer Services   \n",
       "2                        NaN                     NaN   \n",
       "3                   Internet  Information Technology   \n",
       "4    Advertising & Marketing       Business Services   \n",
       "\n",
       "                Competitors  Easy Apply  Minimum Salary  Maximum Salary  \\\n",
       "0                       NaN        True             111             181   \n",
       "1                       NaN        True             111             181   \n",
       "2                       NaN        True             111             181   \n",
       "3      Zocdoc, Healthgrades        True             111             181   \n",
       "4  BBDO, Grey Group, Droga5        True             111             181   \n",
       "\n",
       "   Avg Salary  Minimum Revenue  Maximum Revenue  \n",
       "0       146.0              NaN              NaN  \n",
       "1       146.0              NaN              NaN  \n",
       "2       146.0              NaN              NaN  \n",
       "3       146.0              NaN              NaN  \n",
       "4       146.0              NaN              NaN  "
      ]
     },
     "execution_count": 27,
     "metadata": {},
     "output_type": "execute_result"
    }
   ],
   "source": [
    "df['Minimum Revenue'] = df['Minimum Revenue'].replace([0],[0.1])\n",
    "df.head()"
   ]
  },
  {
   "cell_type": "markdown",
   "metadata": {},
   "source": [
    "#### Tách dữ liệu trong cột `Size` thành `Minimum Size` và `Maximum Size`"
   ]
  },
  {
   "cell_type": "markdown",
   "metadata": {},
   "source": [
    "Xóa các ký tự `employees`; chuyển giá trị `Unknown` thành `None`, `+` thành `plus`, `10000plus` thành `10000 to 10001`"
   ]
  },
  {
   "cell_type": "code",
   "execution_count": 28,
   "metadata": {},
   "outputs": [],
   "source": [
    "df['Size'] = df['Size'].str.replace('employees', '')\n",
    "df['Size'] = df['Size'].str.replace('+', 'plus')\n",
    "df['Size'] = df['Size'].replace('Unknown', None)\n",
    "df['Size'] = df['Size'].str.replace('10000plus', '10000 to 10001')"
   ]
  },
  {
   "cell_type": "markdown",
   "metadata": {},
   "source": [
    "Tách cột `Size` thành 2 cột mới `Minimum Size` và `Maximum Size` rồi chuyển đổi giá trị từ chuỗi sang số.\n",
    "Xóa cột `Size`"
   ]
  },
  {
   "cell_type": "code",
   "execution_count": 29,
   "metadata": {},
   "outputs": [],
   "source": [
    "size = df['Size'].str.split(\"to\",expand=True)\n",
    "df['Minimum Size'] = size[0]\n",
    "df['Maximum Size'] = size[1]\n",
    "df['Minimum Size'] = pd.to_numeric(df['Minimum Size'])\n",
    "df['Maximum Size'] = pd.to_numeric(df['Maximum Size'])\n",
    "df.drop('Size',1,inplace = True)"
   ]
  },
  {
   "cell_type": "markdown",
   "id": "2dc3a7c7",
   "metadata": {},
   "source": [
    "#### Tính doanh thu trung bình và số lượng nhân viên trung bình của từng lĩnh vực\n"
   ]
  },
  {
   "cell_type": "markdown",
   "id": "c268179f",
   "metadata": {},
   "source": [
    "Tạo thêm cột `Avg Revenue` và `Avg Size` lần lượt là doanh thu trung bình và số lượng nhân viên trung bình\n"
   ]
  },
  {
   "cell_type": "code",
   "execution_count": 30,
   "id": "8feeb038",
   "metadata": {},
   "outputs": [],
   "source": [
    "df['Avg Revenue'] = (df['Minimum Revenue']+df['Maximum Revenue'])/2\n",
    "df['Avg Size'] = (df['Minimum Size']+df['Maximum Size'])/2"
   ]
  },
  {
   "cell_type": "markdown",
   "id": "17da6bc8",
   "metadata": {},
   "source": [
    "Tính tổng doanh thu trung bình, số lượng nhân viên trung bình của từng lĩnh vực, sau đó lưu vào 2 biến `Total_Revenue_Each_Sector` và `Total_Size_Each_Sector`"
   ]
  },
  {
   "cell_type": "code",
   "execution_count": 31,
   "id": "a72f1871",
   "metadata": {},
   "outputs": [],
   "source": [
    "Total_Revenue_Each_Sector = df[['Sector','Avg Revenue']].groupby('Sector').sum()\n",
    "Total_Size_Each_Sector = df[['Sector','Avg Size']].groupby('Sector').sum()"
   ]
  },
  {
   "cell_type": "markdown",
   "id": "ee618286",
   "metadata": {},
   "source": [
    "Vẽ biểu đồ cột thể hiện Top 20 lĩnh vực về Data có tổng doanh thu cao nhất và xem sự tương quan với số nhân viên làm việc của trong các lĩnh vực đó"
   ]
  },
  {
   "cell_type": "markdown",
   "metadata": {},
   "source": [
    "Dùng biểu đồ cột với trục hoành là Revenue, trục tung là Sector"
   ]
  },
  {
   "cell_type": "code",
   "execution_count": 32,
   "id": "f31c69e1",
   "metadata": {
    "scrolled": true
   },
   "outputs": [
    {
     "data": {
      "image/png": "[encoded data removed]",
      "text/plain": [
       "<Figure size 1080x504 with 1 Axes>"
      ]
     },
     "metadata": {
      "needs_background": "light"
     },
     "output_type": "display_data"
    },
    {
     "data": {
      "image/png": "[encoded data removed]",
      "text/plain": [
       "<Figure size 1080x504 with 1 Axes>"
      ]
     },
     "metadata": {
      "needs_background": "light"
     },
     "output_type": "display_data"
    }
   ],
   "source": [
    "plt.rcParams['figure.figsize'] = (15,7)\n",
    "color = plt.cm.viridis(np.linspace(0,1,5))\n",
    "top_sector_revenue = Total_Revenue_Each_Sector.sort_values(by=['Avg Revenue'],ascending = False).head(20)\n",
    "top_sector_size = Total_Size_Each_Sector.sort_values(by=['Avg Size'],ascending = False).head(20)\n",
    "\n",
    "top_sector_revenue.plot.barh(color=color)\n",
    "plt.title(\"Top 20 Sector with the highest Revenue\",fontsize=20)\n",
    "plt.ylabel(\"Sector\",fontsize=15)\n",
    "plt.xlabel(\"Revenue (trillion USD)\",fontsize=15);\n",
    "\n",
    "top_sector_size.plot.barh(color=color)\n",
    "plt.title(\"Top 20 Sector with the highest Size\",fontsize=20)\n",
    "plt.ylabel(\"Sector\",fontsize=15)\n",
    "plt.xlabel(\"Size (million people)\",fontsize=15);"
   ]
  },
  {
   "cell_type": "markdown",
   "id": "e4365742",
   "metadata": {},
   "source": [
    "### Nhận xét\n",
    "* Có thể thấy ngành IT có doanh thu lớn nhất và cao vượt bậc so với các ngành còn lại, cho thấy sự phát triển của ngành này\n",
    "* Số lượng nhân viên Data Science làm việc cho lĩnh vực IT cũng cao hơn gấp 2 lần so với ngành cao thứ 2 là Biotech & Pharmaceuticals\n",
    "* Hình dạng 2 đồ thị khá tương đồng cho thấy yếu tố con người đóng vai trò quan trọng và có ảnh hưởng đến doanh thu của công ty, cũng như trong lĩnh vực mà họ làm việc."
   ]
  },
  {
   "cell_type": "markdown",
   "metadata": {},
   "source": [
    "## 3. Xu hướng tuyển dụng của các công ty lớn hiện nay như thế nào?\n",
    "Các vị trí được các công ty lớn tuyển dụng nhiều nhất."
   ]
  },
  {
   "cell_type": "markdown",
   "metadata": {},
   "source": [
    "### Lợi ích khi trả lời câu hỏi\n",
    "+ Đối với doanh nghiệp -> nhanh chóng nắm bắt được xu hướng kinh doanh và phát triển của công ty khác\n",
    "+ Đối với các nhà môi giới tuyển dụng -> dễ dàng nắm bắt và nhanh chóng tìm kiếm nguồn nhân sự cho các công ty\n",
    "+ Đối với người tìm việc -> kịp thời nắm bắt xu hướng việc làm để phát triển bản thân và tìm kiếm công việc phù hợp"
   ]
  },
  {
   "cell_type": "markdown",
   "id": "4df778d2",
   "metadata": {},
   "source": [
    "### Tiền xử lý"
   ]
  },
  {
   "cell_type": "markdown",
   "id": "bcf5cffa",
   "metadata": {},
   "source": [
    "Vì đây là nền tảng do các doanh nghiệp tự đăng bài tìm người nên job title được để không theo một định dạng cố định nên khi\n",
    "xử lí dữ liệu sẽ cho ra rất nhiều nghề khác nhau. Để xử lí vấn đề đó nhóm em quyết định sử dụng những từ khóa tìm được lọc \n",
    "lại để hạn chế tối đa việc dữ liệu bị nhiễu "
   ]
  },
  {
   "cell_type": "code",
   "execution_count": 33,
   "id": "c88804f3",
   "metadata": {},
   "outputs": [],
   "source": [
    "\n",
    "df_job_title = df['Job Title'].str.lower()\n",
    "\n",
    "need_replace_1 = [r'.*data analyst.*',r'.*analytics.*',r'.*compliance engineer.*',r'.*modeling engineer.*',r'.*postdoctoral.*',\n",
    "                r'.*analyst.*', r'.*quality.*', r'.*analytical.*']\n",
    "need_replace_2 = [r'.*data science.*',r'.*senior scientist.*',r'.*scientist I.*',r'.*engineering.*',r'.*bi scientist.*',\n",
    "                r'.*innovation.*', r'.*physical scientist.*', r'.*development.*',r'.*bioanalytics.*', r'.*r&d scientist.*',\n",
    "                r'.*scientist process chemist.*', r'.*rd scientist.*', r'.*data operations.*', r'.*data architect.*',\n",
    "                r'.*combustion.*', r'.*scientist ii.*', r'.*scientist iv.*', r'.*Scientist iii.*',r'.*data scientist.*',\n",
    "                 r'.*senior data.*',r'.*senior scientist.*']\n",
    "need_replace_3 = [r'.*quantitative.*',r'.*research.*',r'.*radar.*']\n",
    "need_replace_4 = [r'.*ai scientist.*',r'.*learning.*',r'.*robotics scientist.*',r'.*intelligence.*',r'.*informatics scientist.*']\n",
    "\n",
    "df_job_title = df_job_title.replace(to_replace = r'.*process.*', value = 'Process Scientist', regex=True)\n",
    "df_job_title = df_job_title.replace(to_replace = r'.*Ergonomics.*', value = 'Ergonomics Scientist', regex=True)\n",
    "df_job_title = df_job_title.replace(to_replace = [r'.*assistant.*',r'.*experiment support.*'], value = 'Assistant Scientist', regex=True)\n",
    "df_job_title = df_job_title.replace(to_replace = r'.*imaging.*', value = 'Imaging Scientist', regex=True)\n",
    "df_job_title = df_job_title.replace(to_replace = [r'.*biopharm.*',r'.*bioinformatics.*'], value = 'Bioinformatics Scientist', regex=True)\n",
    "df_job_title = df_job_title.replace(to_replace = r'.*translational.*', value = 'Translational Scientist', regex=True)\n",
    "df_job_title = df_job_title.replace(to_replace = r'.*behavioral.*', value = 'Behavioral Scientist', regex=True)\n",
    "df_job_title = df_job_title.replace(to_replace = r'.*secure.*', value = 'Secure Data Scientist', regex=True)\n",
    "df_job_title = df_job_title.replace(to_replace = r'.*pharmacovgilance.*', value = 'Pharmacovgilance Scientist', regex=True)\n",
    "df_job_title = df_job_title.replace(to_replace = r'.*decision.*', value = 'Decision Scientist', regex=True)\n",
    "df_job_title = df_job_title.replace(to_replace = r'.*staff.*', value = 'Staff Scientist', regex=True)\n",
    "df_job_title = df_job_title.replace(to_replace = r'.*principle.*', value = 'Principle Scientist', regex=True)\n",
    "df_job_title = df_job_title.replace(to_replace = r'.*human.*', value = 'Human Factors Scientist', regex=True)\n",
    "df_job_title = df_job_title.replace(to_replace = r'.*food.*', value = 'Food Scientist', regex=True)\n",
    "df_job_title = df_job_title.replace(to_replace = r'.*technology.*', value = 'Technology Scientist', regex=True)\n",
    "df_job_title = df_job_title.replace(to_replace = r'.*project.*', value = 'Project Scientist', regex=True)\n",
    "df_job_title = df_job_title.replace(to_replace = r'.*computer.*', value = 'Computer Scientist', regex=True)\n",
    "df_job_title = df_job_title.replace(to_replace = r'.*software.*', value = 'Software Scientist', regex=True)\n",
    "df_job_title = df_job_title.replace(to_replace = r'.*applications.*', value = 'Applications Scientist', regex=True)\n",
    "df_job_title = df_job_title.replace(to_replace = [r'.*laboratory scientist.*',r'.*lab.*'], value = 'Laboratory Scientist', regex=True)\n",
    "df_job_title = df_job_title.replace(to_replace = r'.*data modeler.*', value = 'Data Modeler', regex=True)\n",
    "df_job_title = df_job_title.replace(to_replace = [r'.*environmental scientist.*',r'.*environmental.*'], value = 'Environmental Scientist', regex=True)\n",
    "df_job_title = df_job_title.replace(to_replace = r'.*associate scientist.*', value = 'Associate Scientist', regex=True)\n",
    "df_job_title = df_job_title.replace(to_replace = r'.*applied scientist.*', value = 'Applied Scientist', regex=True)\n",
    "df_job_title = df_job_title.replace(to_replace = [r'.*data consultant.*',r'.*consultant.*'], value = 'Data Consultant', regex=True)\n",
    "df_job_title = df_job_title.replace(to_replace = [r'.*data engineer.*',r'.*engineering.*'], value = 'Data Engineer', regex=True)\n",
    "df_job_title = df_job_title.replace(to_replace = need_replace_4, value = 'AI Scientist', regex=True)\n",
    "df_job_title = df_job_title.replace(to_replace = need_replace_3, value = 'Quantitative Researcher', regex=True)\n",
    "df_job_title = df_job_title.replace(to_replace = need_replace_1, value = 'Data Analyst', regex=True)\n",
    "df_job_title = df_job_title.replace(to_replace = need_replace_2, value = 'Data Science', regex=True)\n",
    "\n",
    "df['Job Title'] = df_job_title"
   ]
  },
  {
   "cell_type": "markdown",
   "id": "cb17df79",
   "metadata": {},
   "source": [
    "#### Đánh giá các công ty lớn\n",
    "\n",
    "Tiêu chí đánh giá: rating, Revenue, Size, Salary Estimate\n",
    "\n",
    "+ Rating >= 3\n",
    "\n",
    "+ Minimum size > 10000\n",
    "\n",
    "+ Minimum Revenue > 10000\n",
    "\n",
    "+ Salary min > 100\n",
    "\n",
    "=> Biết được các công ty có quy mô lớn và đang phát triển mạnh. Qua đó tìm kiếm cơ hội làm ăn và phát triển các mối quan hệ đối với các công ty này.\n",
    "\n",
    "Ở đây không sử dụng cột founded (tức năm thành lập) vì nhiều công ty dù được thành lập muộn hơn nhưng biết nắm bắt thời cơ và có phương hướng phát triển tốt nên đã trở thành các công ty mạnh mẽ."
   ]
  },
  {
   "cell_type": "code",
   "execution_count": 34,
   "id": "639b13d6",
   "metadata": {},
   "outputs": [
    {
     "data": {
      "text/html": [
       "<div>\n",
       "<style scoped>\n",
       "    .dataframe tbody tr th:only-of-type {\n",
       "        vertical-align: middle;\n",
       "    }\n",
       "\n",
       "    .dataframe tbody tr th {\n",
       "        vertical-align: top;\n",
       "    }\n",
       "\n",
       "    .dataframe thead th {\n",
       "        text-align: right;\n",
       "    }\n",
       "</style>\n",
       "<table border=\"1\" class=\"dataframe\">\n",
       "  <thead>\n",
       "    <tr style=\"text-align: right;\">\n",
       "      <th></th>\n",
       "      <th>index</th>\n",
       "      <th>Job Title</th>\n",
       "      <th>Job Description</th>\n",
       "      <th>Rating</th>\n",
       "      <th>Company Name</th>\n",
       "      <th>Location</th>\n",
       "      <th>Headquarters</th>\n",
       "      <th>Founded</th>\n",
       "      <th>Type of ownership</th>\n",
       "      <th>Industry</th>\n",
       "      <th>...</th>\n",
       "      <th>Easy Apply</th>\n",
       "      <th>Minimum Salary</th>\n",
       "      <th>Maximum Salary</th>\n",
       "      <th>Avg Salary</th>\n",
       "      <th>Minimum Revenue</th>\n",
       "      <th>Maximum Revenue</th>\n",
       "      <th>Minimum Size</th>\n",
       "      <th>Maximum Size</th>\n",
       "      <th>Avg Revenue</th>\n",
       "      <th>Avg Size</th>\n",
       "    </tr>\n",
       "  </thead>\n",
       "  <tbody>\n",
       "    <tr>\n",
       "      <th>20</th>\n",
       "      <td>20</td>\n",
       "      <td>Data Science</td>\n",
       "      <td>Job Summary:Comprised of Disney's internationa...</td>\n",
       "      <td>4.0</td>\n",
       "      <td>Walt Disney Co.</td>\n",
       "      <td>New York, NY</td>\n",
       "      <td>Burbank, CA</td>\n",
       "      <td>1923.0</td>\n",
       "      <td>Company - Public</td>\n",
       "      <td>Motion Picture Production &amp; Distribution</td>\n",
       "      <td>...</td>\n",
       "      <td>True</td>\n",
       "      <td>111</td>\n",
       "      <td>181</td>\n",
       "      <td>146.0</td>\n",
       "      <td>10000.0</td>\n",
       "      <td>11000.0</td>\n",
       "      <td>10000.0</td>\n",
       "      <td>10001.0</td>\n",
       "      <td>10500.0</td>\n",
       "      <td>10000.5</td>\n",
       "    </tr>\n",
       "    <tr>\n",
       "      <th>27</th>\n",
       "      <td>27</td>\n",
       "      <td>Data Science</td>\n",
       "      <td>Description: Its a new day in health care.\\r\\n...</td>\n",
       "      <td>3.3</td>\n",
       "      <td>Aetna</td>\n",
       "      <td>New York, NY</td>\n",
       "      <td>Hartford, CT</td>\n",
       "      <td>1853.0</td>\n",
       "      <td>Company - Public</td>\n",
       "      <td>Insurance Carriers</td>\n",
       "      <td>...</td>\n",
       "      <td>True</td>\n",
       "      <td>111</td>\n",
       "      <td>181</td>\n",
       "      <td>146.0</td>\n",
       "      <td>10000.0</td>\n",
       "      <td>11000.0</td>\n",
       "      <td>10000.0</td>\n",
       "      <td>10001.0</td>\n",
       "      <td>10500.0</td>\n",
       "      <td>10000.5</td>\n",
       "    </tr>\n",
       "    <tr>\n",
       "      <th>29</th>\n",
       "      <td>29</td>\n",
       "      <td>Data Science</td>\n",
       "      <td>Description: Its a new day in health care.\\r\\n...</td>\n",
       "      <td>3.3</td>\n",
       "      <td>Aetna</td>\n",
       "      <td>New York, NY</td>\n",
       "      <td>Hartford, CT</td>\n",
       "      <td>1853.0</td>\n",
       "      <td>Company - Public</td>\n",
       "      <td>Insurance Carriers</td>\n",
       "      <td>...</td>\n",
       "      <td>True</td>\n",
       "      <td>111</td>\n",
       "      <td>181</td>\n",
       "      <td>146.0</td>\n",
       "      <td>10000.0</td>\n",
       "      <td>11000.0</td>\n",
       "      <td>10000.0</td>\n",
       "      <td>10001.0</td>\n",
       "      <td>10500.0</td>\n",
       "      <td>10000.5</td>\n",
       "    </tr>\n",
       "    <tr>\n",
       "      <th>51</th>\n",
       "      <td>53</td>\n",
       "      <td>Data Science</td>\n",
       "      <td>*CIB Applied AI &amp; Machine Learning - Digital &amp;...</td>\n",
       "      <td>3.9</td>\n",
       "      <td>JPMorgan Chase</td>\n",
       "      <td>New York, NY</td>\n",
       "      <td>New York, NY</td>\n",
       "      <td>1799.0</td>\n",
       "      <td>Company - Public</td>\n",
       "      <td>Investment Banking &amp; Asset Management</td>\n",
       "      <td>...</td>\n",
       "      <td>True</td>\n",
       "      <td>120</td>\n",
       "      <td>140</td>\n",
       "      <td>130.0</td>\n",
       "      <td>10000.0</td>\n",
       "      <td>11000.0</td>\n",
       "      <td>10000.0</td>\n",
       "      <td>10001.0</td>\n",
       "      <td>10500.0</td>\n",
       "      <td>10000.5</td>\n",
       "    </tr>\n",
       "    <tr>\n",
       "      <th>54</th>\n",
       "      <td>56</td>\n",
       "      <td>Data Science</td>\n",
       "      <td>Description: Its a new day in health care.\\r\\n...</td>\n",
       "      <td>3.3</td>\n",
       "      <td>Aetna</td>\n",
       "      <td>New York, NY</td>\n",
       "      <td>Hartford, CT</td>\n",
       "      <td>1853.0</td>\n",
       "      <td>Company - Public</td>\n",
       "      <td>Insurance Carriers</td>\n",
       "      <td>...</td>\n",
       "      <td>True</td>\n",
       "      <td>120</td>\n",
       "      <td>140</td>\n",
       "      <td>130.0</td>\n",
       "      <td>10000.0</td>\n",
       "      <td>11000.0</td>\n",
       "      <td>10000.0</td>\n",
       "      <td>10001.0</td>\n",
       "      <td>10500.0</td>\n",
       "      <td>10000.5</td>\n",
       "    </tr>\n",
       "  </tbody>\n",
       "</table>\n",
       "<p>5 rows × 22 columns</p>\n",
       "</div>"
      ],
      "text/plain": [
       "    index     Job Title                                    Job Description  \\\n",
       "20     20  Data Science  Job Summary:Comprised of Disney's internationa...   \n",
       "27     27  Data Science  Description: Its a new day in health care.\\r\\n...   \n",
       "29     29  Data Science  Description: Its a new day in health care.\\r\\n...   \n",
       "51     53  Data Science  *CIB Applied AI & Machine Learning - Digital &...   \n",
       "54     56  Data Science  Description: Its a new day in health care.\\r\\n...   \n",
       "\n",
       "    Rating      Company Name      Location  Headquarters  Founded  \\\n",
       "20     4.0  Walt Disney Co.   New York, NY   Burbank, CA   1923.0   \n",
       "27     3.3            Aetna   New York, NY  Hartford, CT   1853.0   \n",
       "29     3.3            Aetna   New York, NY  Hartford, CT   1853.0   \n",
       "51     3.9   JPMorgan Chase   New York, NY  New York, NY   1799.0   \n",
       "54     3.3            Aetna   New York, NY  Hartford, CT   1853.0   \n",
       "\n",
       "   Type of ownership                                  Industry  ...  \\\n",
       "20  Company - Public  Motion Picture Production & Distribution  ...   \n",
       "27  Company - Public                        Insurance Carriers  ...   \n",
       "29  Company - Public                        Insurance Carriers  ...   \n",
       "51  Company - Public     Investment Banking & Asset Management  ...   \n",
       "54  Company - Public                        Insurance Carriers  ...   \n",
       "\n",
       "   Easy Apply Minimum Salary  Maximum Salary  Avg Salary  Minimum Revenue  \\\n",
       "20       True            111             181       146.0          10000.0   \n",
       "27       True            111             181       146.0          10000.0   \n",
       "29       True            111             181       146.0          10000.0   \n",
       "51       True            120             140       130.0          10000.0   \n",
       "54       True            120             140       130.0          10000.0   \n",
       "\n",
       "    Maximum Revenue  Minimum Size  Maximum Size  Avg Revenue  Avg Size  \n",
       "20          11000.0       10000.0       10001.0      10500.0   10000.5  \n",
       "27          11000.0       10000.0       10001.0      10500.0   10000.5  \n",
       "29          11000.0       10000.0       10001.0      10500.0   10000.5  \n",
       "51          11000.0       10000.0       10001.0      10500.0   10000.5  \n",
       "54          11000.0       10000.0       10001.0      10500.0   10000.5  \n",
       "\n",
       "[5 rows x 22 columns]"
      ]
     },
     "execution_count": 34,
     "metadata": {},
     "output_type": "execute_result"
    }
   ],
   "source": [
    "df_big_company = df[(df['Rating'] >= 3.0) & (df['Minimum Revenue'] >= 10000.0) & (df['Minimum Revenue'] == 10000.0) & (df['Minimum Salary'] >=100)]\n",
    "df_big_company.head()"
   ]
  },
  {
   "cell_type": "markdown",
   "id": "1f6af5e6",
   "metadata": {},
   "source": [
    "Nhận xét:\n",
    "\n",
    "Có thể thấy data ban đầu gồm 3909 dòng tương đương 3909 công ty tuy nhiên sau khi lọc và giữ lại các công ty lớn chỉ còn 214 công ty. Tỉ lệ xấp xỉ 1/20. Qua đó có thể thấy số lượng công ty lớn trên thị trường là không nhiều mà mỗi công ty lại kinh doanh về một lĩnh vực khác nhau nên việc có thể xin được việc ở các công ty lớn sẽ là không hề dễ dàng.\n"
   ]
  },
  {
   "cell_type": "markdown",
   "metadata": {},
   "source": [
    "#### Vẽ biểu đồ thể hiện xu hướng tuyển dụng của các công ty lớn hiện nay"
   ]
  },
  {
   "cell_type": "markdown",
   "id": "95a1b910",
   "metadata": {},
   "source": [
    "Biểu đồ thể hiện top 20 nghề được tuyển dụng nhiều nhất "
   ]
  },
  {
   "cell_type": "code",
   "execution_count": 35,
   "id": "7f091ec6",
   "metadata": {},
   "outputs": [
    {
     "data": {
      "image/png": "[encoded data removed]",
      "text/plain": [
       "<Figure size 720x720 with 1 Axes>"
      ]
     },
     "metadata": {
      "needs_background": "light"
     },
     "output_type": "display_data"
    }
   ],
   "source": [
    "plt.subplots(figsize=(10,10))\n",
    "splot = sns.barplot(x=df_job_title.value_counts()[0:20].sort_values(),y=df_job_title.value_counts()[0:20].sort_values().index, palette = 'winter_r')\n",
    "\n",
    "plt.xlabel('Job Count',fontsize=15)\n",
    "plt.ylabel('Job Title',fontsize=15)\n",
    "plt.xticks()\n",
    "plt.yticks(fontsize=15)\n",
    "plt.title('Top 20 Job Title Counts',fontsize=25);"
   ]
  },
  {
   "cell_type": "markdown",
   "id": "4653a73a",
   "metadata": {},
   "source": [
    "### Nhận xét:\n",
    "\n",
    "- Có thể thấy 3 nghề liên quan đến data được tuyển dụng nhiều nhất lần lượt là Data Science, Data Analyst, Data engineer\n"
   ]
  },
  {
   "cell_type": "markdown",
   "metadata": {},
   "source": [
    "Tiếp theo ta thực hiện thống kê các nghề được các công ty lớn tuyển dụng nhiều nhất"
   ]
  },
  {
   "cell_type": "code",
   "execution_count": 36,
   "id": "5e9c216a",
   "metadata": {},
   "outputs": [
    {
     "data": {
      "image/png": "[encoded data removed]",
      "text/plain": [
       "<Figure size 720x720 with 1 Axes>"
      ]
     },
     "metadata": {
      "needs_background": "light"
     },
     "output_type": "display_data"
    }
   ],
   "source": [
    "df_big_company_job = df_big_company.groupby('Job Title')['Company Name'].count()\n",
    "df_big_company_job = df_big_company_job.sort_values(ascending=False)\n",
    "plt.subplots(figsize=(10,10))\n",
    "df_big_company_job[0:20].plot.barh()\n",
    "\n",
    "plt.xlabel('Job Count',fontsize=15)\n",
    "plt.ylabel('Job Title',fontsize=15)\n",
    "plt.xticks()\n",
    "plt.yticks(fontsize=15)\n",
    "plt.title('Top job for Big Company',fontsize=25);"
   ]
  },
  {
   "cell_type": "markdown",
   "metadata": {},
   "source": [
    "## 4. Đâu là nơi tuyển dụng nhân lực về lĩnh vực Khoa học dữ liệu nhiều nhất?"
   ]
  },
  {
   "cell_type": "markdown",
   "metadata": {},
   "source": [
    "### Lợi ích khi trả lời câu hỏi\n",
    "- Biết được đâu là nơi tuyển dụng về lĩnh vực Khoa học dữ liệu nhiều nhất, đâu là nơi mà Khoa học dữ liệu đang phát triển mạnh nhất"
   ]
  },
  {
   "cell_type": "markdown",
   "metadata": {},
   "source": [
    "### Tiền xử lý"
   ]
  },
  {
   "cell_type": "markdown",
   "metadata": {},
   "source": [
    "#### Tách cột `Location` thành `Location City` và `Location State`"
   ]
  },
  {
   "cell_type": "code",
   "execution_count": 37,
   "metadata": {},
   "outputs": [],
   "source": [
    "Location = df['Location'].str.split(\",\",expand=True,)\n",
    "Location_City = Location[0]\n",
    "Location_State = Location[1]\n",
    "df['Location City'] = Location_City\n",
    "df['Location State'] = Location_State\n",
    "df.drop('Location',axis = 1, inplace = True)"
   ]
  },
  {
   "cell_type": "markdown",
   "metadata": {},
   "source": [
    "#### Tách cột `Headquarters` thành `Headquarters City` và `Headquarters State`"
   ]
  },
  {
   "cell_type": "code",
   "execution_count": 38,
   "metadata": {},
   "outputs": [],
   "source": [
    "HQ = df['Headquarters'].str.split(\",\",expand=True)\n",
    "Headquarters_City = HQ[0]\n",
    "Headquarters_State = HQ[1]\n",
    "df['Headquarters City'] = Headquarters_City\n",
    "df['Headquarters State'] = Headquarters_State\n",
    "df.drop('Headquarters',axis = 1, inplace = True)"
   ]
  },
  {
   "cell_type": "markdown",
   "metadata": {},
   "source": [
    "Đếm số lượng thành phố đang cần tuyển nhân viên bằng `values_counts()`, sau đó lấy top 20 thành phố đầu tiên và lưu vào `df_by_city`"
   ]
  },
  {
   "cell_type": "code",
   "execution_count": 39,
   "metadata": {},
   "outputs": [],
   "source": [
    "df_by_city=df['Location City'].value_counts()\n",
    "temp_df = {'Location City': df_by_city.index, 'Hires': df_by_city.values}\n",
    "df_by_city = pd.DataFrame(temp_df).head(20)"
   ]
  },
  {
   "cell_type": "markdown",
   "metadata": {},
   "source": [
    "Gộp 2 dataframe `df_by_city` và `df` bằng `merge()` với từ khóa `Location City`. Sau đó lưu vào `Sal_by_city`"
   ]
  },
  {
   "cell_type": "code",
   "execution_count": 40,
   "metadata": {},
   "outputs": [],
   "source": [
    "Sal_by_city = df_by_city.merge(df,on='Location City',how='left')"
   ]
  },
  {
   "cell_type": "markdown",
   "metadata": {},
   "source": [
    "Vẽ biểu đồ cột top 20 thành phố tuyển dụng nhiều nhất ở bên trái, bên phải là biểu đồ pointplot thể hiện lương trung bình tương ứng với mỗi thành phố"
   ]
  },
  {
   "cell_type": "code",
   "execution_count": 41,
   "metadata": {},
   "outputs": [
    {
     "data": {
      "image/png": "[encoded data removed]",
      "text/plain": [
       "<Figure size 936x504 with 2 Axes>"
      ]
     },
     "metadata": {},
     "output_type": "display_data"
    }
   ],
   "source": [
    "sns.set(style=\"white\")\n",
    "f, (ax_bar, ax_point) = plt.subplots(ncols=2, sharey=True, gridspec_kw= {\"width_ratios\":(0.6,1)},figsize=(13,7))\n",
    "sns.barplot(x='Hires',y='Location City',data=Sal_by_city,ax=ax_bar, palette='rocket').set(ylabel=\"City\")\n",
    "sns.pointplot(x='Avg Salary',y='Location City',data=Sal_by_city, join=False,ax=ax_point, color = 'red').set(\n",
    "    ylabel=\"\",xlabel=\"Salary ($'K')\")\n",
    "plt.suptitle('Top 20 Cities Hiring Data Science Jobs',fontsize=20)\n",
    "plt.tight_layout(rect=[0, 0.03, 1, 0.95])"
   ]
  },
  {
   "cell_type": "markdown",
   "metadata": {},
   "source": [
    "### Nhận xét:\n",
    "- Qua biểu đồ ta có thể thấy các thành phố tuyển dụng nhiều nhất đều ở Hoa Kỳ\n",
    "- Những nơi tuyển dụng nhiều (Austin, Chicago,...) có mức lương trung bình hằng năm ở mức trung bình so với các nơi khác\n",
    "- Những nơi tuyển dụng ít trong top 20 (Mounatain View, Sunnyvale, Palo Alto) có mức lương trung bình hằng năm rất cao (trên 150.000$/năm)\n",
    "\n",
    "Nguyên nhân: có thể do các công ty ở Mounatain View, Sunnyvale, Palo Alto tuyển các nhân viên có trình độ cao nên số lượng tuyển ít nhưng mức lương lại rất cao. Ngược lại với các công ty ở Austin, Chicago,..."
   ]
  }
 ],
 "metadata": {
  "kernelspec": {
   "display_name": "Python 3 (ipykernel)",
   "language": "python",
   "name": "python3"
  },
  "language_info": {
   "codemirror_mode": {
    "name": "ipython",
    "version": 3
   },
   "file_extension": ".py",
   "mimetype": "text/x-python",
   "name": "python",
   "nbconvert_exporter": "python",
   "pygments_lexer": "ipython3",
   "version": "3.9.12"
  },
  "vscode": {
   "interpreter": {
    "hash": "a42ccb73e7d9bfdf27e036f1d2b8b681e55fc0743cc5586bc2474d4a60f4b886"
   }
  }
 },
 "nbformat": 4,
 "nbformat_minor": 2
}
